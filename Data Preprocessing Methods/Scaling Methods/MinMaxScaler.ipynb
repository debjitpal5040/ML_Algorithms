{
 "cells": [
  {
   "cell_type": "markdown",
   "metadata": {},
   "source": [
    "# MinMaxScaler\n"
   ]
  },
  {
   "cell_type": "code",
   "execution_count": 1,
   "metadata": {},
   "outputs": [],
   "source": [
    "import pandas as pd\n",
    "from sklearn.model_selection import train_test_split\n",
    "from sklearn.preprocessing import MinMaxScaler"
   ]
  },
  {
   "cell_type": "code",
   "execution_count": 2,
   "metadata": {},
   "outputs": [
    {
     "data": {
      "text/html": [
       "<div>\n",
       "<style scoped>\n",
       "    .dataframe tbody tr th:only-of-type {\n",
       "        vertical-align: middle;\n",
       "    }\n",
       "\n",
       "    .dataframe tbody tr th {\n",
       "        vertical-align: top;\n",
       "    }\n",
       "\n",
       "    .dataframe thead th {\n",
       "        text-align: right;\n",
       "    }\n",
       "</style>\n",
       "<table border=\"1\" class=\"dataframe\">\n",
       "  <thead>\n",
       "    <tr style=\"text-align: right;\">\n",
       "      <th></th>\n",
       "      <th>Gender</th>\n",
       "      <th>Age</th>\n",
       "      <th>EstimatedSalary</th>\n",
       "      <th>Purchased</th>\n",
       "    </tr>\n",
       "  </thead>\n",
       "  <tbody>\n",
       "    <tr>\n",
       "      <th>0</th>\n",
       "      <td>1</td>\n",
       "      <td>19</td>\n",
       "      <td>19000</td>\n",
       "      <td>0</td>\n",
       "    </tr>\n",
       "    <tr>\n",
       "      <th>1</th>\n",
       "      <td>1</td>\n",
       "      <td>35</td>\n",
       "      <td>20000</td>\n",
       "      <td>0</td>\n",
       "    </tr>\n",
       "    <tr>\n",
       "      <th>2</th>\n",
       "      <td>2</td>\n",
       "      <td>26</td>\n",
       "      <td>43000</td>\n",
       "      <td>0</td>\n",
       "    </tr>\n",
       "    <tr>\n",
       "      <th>3</th>\n",
       "      <td>2</td>\n",
       "      <td>27</td>\n",
       "      <td>57000</td>\n",
       "      <td>0</td>\n",
       "    </tr>\n",
       "    <tr>\n",
       "      <th>4</th>\n",
       "      <td>1</td>\n",
       "      <td>19</td>\n",
       "      <td>76000</td>\n",
       "      <td>0</td>\n",
       "    </tr>\n",
       "  </tbody>\n",
       "</table>\n",
       "</div>"
      ],
      "text/plain": [
       "   Gender  Age  EstimatedSalary  Purchased\n",
       "0       1   19            19000          0\n",
       "1       1   35            20000          0\n",
       "2       2   26            43000          0\n",
       "3       2   27            57000          0\n",
       "4       1   19            76000          0"
      ]
     },
     "execution_count": 2,
     "metadata": {},
     "output_type": "execute_result"
    }
   ],
   "source": [
    "df = pd.read_csv(\"../../Datasets/SocialNetworkAds.csv\")\n",
    "df.head()"
   ]
  },
  {
   "cell_type": "code",
   "execution_count": 3,
   "metadata": {},
   "outputs": [],
   "source": [
    "X = df.iloc[:, :-1].values\n",
    "y = df.iloc[:, -1].values"
   ]
  },
  {
   "cell_type": "code",
   "execution_count": 4,
   "metadata": {},
   "outputs": [],
   "source": [
    "X_train, X_test, y_train, y_test = train_test_split(X, y, test_size=0.1, random_state=0)"
   ]
  },
  {
   "cell_type": "markdown",
   "metadata": {},
   "source": [
    "The `MinMaxScaler` class in scikit-learn has two main parameters:\n",
    "\n",
    "- `feature_range`: This parameter specifies the range of the transformed data. The default value is `(0, 1)`, which means that the data will be scaled to the range `[0, 1]`. You can specify a different range by passing a tuple with two values.\n",
    "\n",
    "- `copy`: This parameter specifies whether to make a copy of the data before scaling it. The default value is `True`, which means that a copy will be made.\n",
    "\n",
    "Here is an example of how to create a `MinMaxScaler` object with the default parameters:\n"
   ]
  },
  {
   "cell_type": "code",
   "execution_count": 5,
   "metadata": {},
   "outputs": [],
   "source": [
    "scaler = MinMaxScaler()\n",
    "X_train = scaler.fit_transform(X_train)\n",
    "X_test = scaler.transform(X_test)"
   ]
  },
  {
   "cell_type": "code",
   "execution_count": 6,
   "metadata": {},
   "outputs": [
    {
     "data": {
      "text/plain": [
       "array([[0.        , 0.21428571, 0.54074074],\n",
       "       [0.        , 0.54761905, 0.27407407],\n",
       "       [1.        , 0.21428571, 0.51111111],\n",
       "       ...,\n",
       "       [0.        , 0.42857143, 0.27407407],\n",
       "       [1.        , 0.21428571, 0.28888889],\n",
       "       [1.        , 0.19047619, 0.76296296]])"
      ]
     },
     "execution_count": 6,
     "metadata": {},
     "output_type": "execute_result"
    }
   ],
   "source": [
    "X_train"
   ]
  },
  {
   "cell_type": "code",
   "execution_count": 7,
   "metadata": {},
   "outputs": [
    {
     "data": {
      "text/plain": [
       "array([[0.        , 0.28571429, 0.53333333],\n",
       "       [1.        , 0.47619048, 0.25925926],\n",
       "       [0.        , 0.4047619 , 0.44444444],\n",
       "       [1.        , 0.28571429, 0.47407407],\n",
       "       [1.        , 0.4047619 , 0.25925926],\n",
       "       [0.        , 0.21428571, 0.03703704],\n",
       "       [1.        , 0.30952381, 0.        ],\n",
       "       [0.        , 0.42857143, 0.95555556],\n",
       "       [1.        , 0.        , 0.39259259],\n",
       "       [0.        , 0.69047619, 0.20740741],\n",
       "       [0.        , 0.28571429, 0.25185185],\n",
       "       [1.        , 0.23809524, 0.2962963 ],\n",
       "       [0.        , 0.45238095, 0.2962963 ],\n",
       "       [0.        , 0.5       , 0.45925926],\n",
       "       [0.        , 0.04761905, 0.52592593],\n",
       "       [1.        , 0.33333333, 0.75555556],\n",
       "       [0.        , 0.45238095, 0.45925926],\n",
       "       [0.        , 0.02380952, 0.51851852],\n",
       "       [1.        , 0.88095238, 0.85185185],\n",
       "       [0.        , 0.4047619 , 0.05185185],\n",
       "       [1.        , 0.4047619 , 0.23703704],\n",
       "       [1.        , 0.69047619, 0.95555556],\n",
       "       [1.        , 0.54761905, 0.26666667],\n",
       "       [0.        , 0.69047619, 0.66666667],\n",
       "       [1.        , 0.11904762, 0.0962963 ],\n",
       "       [1.        , 0.73809524, 0.93333333],\n",
       "       [1.        , 0.23809524, 0.53333333],\n",
       "       [0.        , 0.26190476, 0.48148148],\n",
       "       [1.        , 0.45238095, 0.34814815],\n",
       "       [1.        , 0.33333333, 0.52592593],\n",
       "       [0.        , 0.07142857, 0.54074074],\n",
       "       [0.        , 0.45238095, 0.47407407],\n",
       "       [0.        , 0.92857143, 0.33333333],\n",
       "       [0.        , 0.45238095, 0.28148148],\n",
       "       [0.        , 0.14285714, 0.31851852],\n",
       "       [0.        , 0.        , 0.27407407],\n",
       "       [0.        , 0.0952381 , 0.48888889],\n",
       "       [1.        , 0.38095238, 0.20740741],\n",
       "       [1.        , 0.30952381, 0.14074074],\n",
       "       [1.        , 0.73809524, 0.15555556]])"
      ]
     },
     "execution_count": 7,
     "metadata": {},
     "output_type": "execute_result"
    }
   ],
   "source": [
    "X_test"
   ]
  }
 ],
 "metadata": {
  "kernelspec": {
   "display_name": "Python 3.9.13 64-bit",
   "language": "python",
   "name": "python3"
  },
  "language_info": {
   "codemirror_mode": {
    "name": "ipython",
    "version": 3
   },
   "file_extension": ".py",
   "mimetype": "text/x-python",
   "name": "python",
   "nbconvert_exporter": "python",
   "pygments_lexer": "ipython3",
   "version": "3.12.1"
  },
  "orig_nbformat": 4,
  "vscode": {
   "interpreter": {
    "hash": "aee8b7b246df8f9039afb4144a1f6fd8d2ca17a180786b69acc140d282b71a49"
   }
  }
 },
 "nbformat": 4,
 "nbformat_minor": 2
}
