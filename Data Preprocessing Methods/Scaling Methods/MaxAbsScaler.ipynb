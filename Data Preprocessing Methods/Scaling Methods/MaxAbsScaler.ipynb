{
 "cells": [
  {
   "attachments": {},
   "cell_type": "markdown",
   "metadata": {},
   "source": [
    "# MaxAbsScaler\n"
   ]
  },
  {
   "cell_type": "code",
   "execution_count": 1,
   "metadata": {},
   "outputs": [],
   "source": [
    "import pandas as pd\n",
    "from sklearn.model_selection import train_test_split\n",
    "from sklearn.preprocessing import MaxAbsScaler"
   ]
  },
  {
   "cell_type": "code",
   "execution_count": 2,
   "metadata": {},
   "outputs": [
    {
     "data": {
      "text/html": [
       "<div>\n",
       "<style scoped>\n",
       "    .dataframe tbody tr th:only-of-type {\n",
       "        vertical-align: middle;\n",
       "    }\n",
       "\n",
       "    .dataframe tbody tr th {\n",
       "        vertical-align: top;\n",
       "    }\n",
       "\n",
       "    .dataframe thead th {\n",
       "        text-align: right;\n",
       "    }\n",
       "</style>\n",
       "<table border=\"1\" class=\"dataframe\">\n",
       "  <thead>\n",
       "    <tr style=\"text-align: right;\">\n",
       "      <th></th>\n",
       "      <th>Gender</th>\n",
       "      <th>Age</th>\n",
       "      <th>EstimatedSalary</th>\n",
       "      <th>Purchased</th>\n",
       "    </tr>\n",
       "  </thead>\n",
       "  <tbody>\n",
       "    <tr>\n",
       "      <th>0</th>\n",
       "      <td>1</td>\n",
       "      <td>19</td>\n",
       "      <td>19000</td>\n",
       "      <td>0</td>\n",
       "    </tr>\n",
       "    <tr>\n",
       "      <th>1</th>\n",
       "      <td>1</td>\n",
       "      <td>35</td>\n",
       "      <td>20000</td>\n",
       "      <td>0</td>\n",
       "    </tr>\n",
       "    <tr>\n",
       "      <th>2</th>\n",
       "      <td>2</td>\n",
       "      <td>26</td>\n",
       "      <td>43000</td>\n",
       "      <td>0</td>\n",
       "    </tr>\n",
       "    <tr>\n",
       "      <th>3</th>\n",
       "      <td>2</td>\n",
       "      <td>27</td>\n",
       "      <td>57000</td>\n",
       "      <td>0</td>\n",
       "    </tr>\n",
       "    <tr>\n",
       "      <th>4</th>\n",
       "      <td>1</td>\n",
       "      <td>19</td>\n",
       "      <td>76000</td>\n",
       "      <td>0</td>\n",
       "    </tr>\n",
       "  </tbody>\n",
       "</table>\n",
       "</div>"
      ],
      "text/plain": [
       "   Gender  Age  EstimatedSalary  Purchased\n",
       "0       1   19            19000          0\n",
       "1       1   35            20000          0\n",
       "2       2   26            43000          0\n",
       "3       2   27            57000          0\n",
       "4       1   19            76000          0"
      ]
     },
     "execution_count": 2,
     "metadata": {},
     "output_type": "execute_result"
    }
   ],
   "source": [
    "df = pd.read_csv(\"../../Datasets/SocialNetworkAds.csv\")\n",
    "df.head()"
   ]
  },
  {
   "cell_type": "code",
   "execution_count": 3,
   "metadata": {},
   "outputs": [],
   "source": [
    "X = df.iloc[:, :-1].values\n",
    "y = df.iloc[:, -1].values"
   ]
  },
  {
   "cell_type": "code",
   "execution_count": 4,
   "metadata": {},
   "outputs": [],
   "source": [
    "X_train, X_test, y_train, y_test = train_test_split(X, y, test_size=0.1, random_state=0)"
   ]
  },
  {
   "cell_type": "markdown",
   "metadata": {},
   "source": [
    "The `MaxAbsScaler` class in scikit-learn has only one parameter:\n",
    "\n",
    "- `copy`: This parameter specifies whether to make a copy of the data before scaling it. The default value is `True`, which means that a copy will be made.\n",
    "\n",
    "Here is an example of how to create a `MaxAbsScaler` object with the default parameters:\n"
   ]
  },
  {
   "cell_type": "markdown",
   "metadata": {},
   "source": [
    "The `MaxAbsScaler` scales each feature by its maximum absolute value. This scaler is useful for data that is already centered at zero or sparse data.\n"
   ]
  },
  {
   "cell_type": "code",
   "execution_count": 5,
   "metadata": {},
   "outputs": [],
   "source": [
    "scaler = MaxAbsScaler()\n",
    "X_train = scaler.fit_transform(X_train)\n",
    "X_test = scaler.transform(X_test)"
   ]
  },
  {
   "cell_type": "code",
   "execution_count": 6,
   "metadata": {},
   "outputs": [
    {
     "data": {
      "text/plain": [
       "array([[0.5       , 0.45      , 0.58666667],\n",
       "       [0.5       , 0.68333333, 0.34666667],\n",
       "       [1.        , 0.45      , 0.56      ],\n",
       "       ...,\n",
       "       [0.5       , 0.6       , 0.34666667],\n",
       "       [1.        , 0.45      , 0.36      ],\n",
       "       [1.        , 0.43333333, 0.78666667]])"
      ]
     },
     "execution_count": 6,
     "metadata": {},
     "output_type": "execute_result"
    }
   ],
   "source": [
    "X_train"
   ]
  },
  {
   "cell_type": "code",
   "execution_count": 7,
   "metadata": {},
   "outputs": [
    {
     "data": {
      "text/plain": [
       "array([[0.5       , 0.5       , 0.58      ],\n",
       "       [1.        , 0.63333333, 0.33333333],\n",
       "       [0.5       , 0.58333333, 0.5       ],\n",
       "       [1.        , 0.5       , 0.52666667],\n",
       "       [1.        , 0.58333333, 0.33333333],\n",
       "       [0.5       , 0.45      , 0.13333333],\n",
       "       [1.        , 0.51666667, 0.1       ],\n",
       "       [0.5       , 0.6       , 0.96      ],\n",
       "       [1.        , 0.3       , 0.45333333],\n",
       "       [0.5       , 0.78333333, 0.28666667],\n",
       "       [0.5       , 0.5       , 0.32666667],\n",
       "       [1.        , 0.46666667, 0.36666667],\n",
       "       [0.5       , 0.61666667, 0.36666667],\n",
       "       [0.5       , 0.65      , 0.51333333],\n",
       "       [0.5       , 0.33333333, 0.57333333],\n",
       "       [1.        , 0.53333333, 0.78      ],\n",
       "       [0.5       , 0.61666667, 0.51333333],\n",
       "       [0.5       , 0.31666667, 0.56666667],\n",
       "       [1.        , 0.91666667, 0.86666667],\n",
       "       [0.5       , 0.58333333, 0.14666667],\n",
       "       [1.        , 0.58333333, 0.31333333],\n",
       "       [1.        , 0.78333333, 0.96      ],\n",
       "       [1.        , 0.68333333, 0.34      ],\n",
       "       [0.5       , 0.78333333, 0.7       ],\n",
       "       [1.        , 0.38333333, 0.18666667],\n",
       "       [1.        , 0.81666667, 0.94      ],\n",
       "       [1.        , 0.46666667, 0.58      ],\n",
       "       [0.5       , 0.48333333, 0.53333333],\n",
       "       [1.        , 0.61666667, 0.41333333],\n",
       "       [1.        , 0.53333333, 0.57333333],\n",
       "       [0.5       , 0.35      , 0.58666667],\n",
       "       [0.5       , 0.61666667, 0.52666667],\n",
       "       [0.5       , 0.95      , 0.4       ],\n",
       "       [0.5       , 0.61666667, 0.35333333],\n",
       "       [0.5       , 0.4       , 0.38666667],\n",
       "       [0.5       , 0.3       , 0.34666667],\n",
       "       [0.5       , 0.36666667, 0.54      ],\n",
       "       [1.        , 0.56666667, 0.28666667],\n",
       "       [1.        , 0.51666667, 0.22666667],\n",
       "       [1.        , 0.81666667, 0.24      ]])"
      ]
     },
     "execution_count": 7,
     "metadata": {},
     "output_type": "execute_result"
    }
   ],
   "source": [
    "X_test"
   ]
  }
 ],
 "metadata": {
  "kernelspec": {
   "display_name": "Python 3.9.13 64-bit",
   "language": "python",
   "name": "python3"
  },
  "language_info": {
   "codemirror_mode": {
    "name": "ipython",
    "version": 3
   },
   "file_extension": ".py",
   "mimetype": "text/x-python",
   "name": "python",
   "nbconvert_exporter": "python",
   "pygments_lexer": "ipython3",
   "version": "3.11.4"
  },
  "orig_nbformat": 4,
  "vscode": {
   "interpreter": {
    "hash": "aee8b7b246df8f9039afb4144a1f6fd8d2ca17a180786b69acc140d282b71a49"
   }
  }
 },
 "nbformat": 4,
 "nbformat_minor": 2
}
