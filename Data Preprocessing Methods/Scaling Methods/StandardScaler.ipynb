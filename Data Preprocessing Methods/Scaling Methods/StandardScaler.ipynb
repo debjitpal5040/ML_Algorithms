{
 "cells": [
  {
   "cell_type": "markdown",
   "metadata": {},
   "source": [
    "# StandardScaler"
   ]
  },
  {
   "cell_type": "code",
   "execution_count": 1,
   "metadata": {},
   "outputs": [],
   "source": [
    "import pandas as pd  # data processing\n",
    "from sklearn.datasets import load_breast_cancer  # loading the dataset\n",
    "from sklearn.model_selection import train_test_split  # splitting the dataset\n",
    "from sklearn.preprocessing import StandardScaler  # scaling the dataset"
   ]
  },
  {
   "cell_type": "code",
   "execution_count": 3,
   "metadata": {},
   "outputs": [
    {
     "data": {
      "text/html": [
       "<div>\n",
       "<style scoped>\n",
       "    .dataframe tbody tr th:only-of-type {\n",
       "        vertical-align: middle;\n",
       "    }\n",
       "\n",
       "    .dataframe tbody tr th {\n",
       "        vertical-align: top;\n",
       "    }\n",
       "\n",
       "    .dataframe thead th {\n",
       "        text-align: right;\n",
       "    }\n",
       "</style>\n",
       "<table border=\"1\" class=\"dataframe\">\n",
       "  <thead>\n",
       "    <tr style=\"text-align: right;\">\n",
       "      <th></th>\n",
       "      <th>Gender</th>\n",
       "      <th>Age</th>\n",
       "      <th>EstimatedSalary</th>\n",
       "      <th>Purchased</th>\n",
       "    </tr>\n",
       "  </thead>\n",
       "  <tbody>\n",
       "    <tr>\n",
       "      <th>0</th>\n",
       "      <td>1</td>\n",
       "      <td>19</td>\n",
       "      <td>19000</td>\n",
       "      <td>0</td>\n",
       "    </tr>\n",
       "    <tr>\n",
       "      <th>1</th>\n",
       "      <td>1</td>\n",
       "      <td>35</td>\n",
       "      <td>20000</td>\n",
       "      <td>0</td>\n",
       "    </tr>\n",
       "    <tr>\n",
       "      <th>2</th>\n",
       "      <td>2</td>\n",
       "      <td>26</td>\n",
       "      <td>43000</td>\n",
       "      <td>0</td>\n",
       "    </tr>\n",
       "    <tr>\n",
       "      <th>3</th>\n",
       "      <td>2</td>\n",
       "      <td>27</td>\n",
       "      <td>57000</td>\n",
       "      <td>0</td>\n",
       "    </tr>\n",
       "    <tr>\n",
       "      <th>4</th>\n",
       "      <td>1</td>\n",
       "      <td>19</td>\n",
       "      <td>76000</td>\n",
       "      <td>0</td>\n",
       "    </tr>\n",
       "  </tbody>\n",
       "</table>\n",
       "</div>"
      ],
      "text/plain": [
       "   Gender  Age  EstimatedSalary  Purchased\n",
       "0       1   19            19000          0\n",
       "1       1   35            20000          0\n",
       "2       2   26            43000          0\n",
       "3       2   27            57000          0\n",
       "4       1   19            76000          0"
      ]
     },
     "execution_count": 3,
     "metadata": {},
     "output_type": "execute_result"
    }
   ],
   "source": [
    "df = pd.read_csv(\"../../Datasets/SocialNetworkAds.csv\")\n",
    "df.head()"
   ]
  },
  {
   "cell_type": "code",
   "execution_count": 4,
   "metadata": {},
   "outputs": [],
   "source": [
    "X = df.iloc[:, :-1].values\n",
    "y = df.iloc[:, -1].values"
   ]
  },
  {
   "cell_type": "code",
   "execution_count": 5,
   "metadata": {},
   "outputs": [],
   "source": [
    "X_train, X_test, y_train, y_test = train_test_split(X, y, test_size=0.1, random_state=0)"
   ]
  },
  {
   "cell_type": "markdown",
   "metadata": {},
   "source": [
    "The `StandardScaler` class in scikit-learn has two main parameters:\n",
    "\n",
    "- `with_mean`: This is a boolean parameter that specifies whether to center the data before scaling. The default value is `True`, which means that the data will be centered before scaling.\n",
    "\n",
    "- `with_std`: This is a boolean parameter that specifies whether to scale the data to unit variance. The default value is `True`, which means that the data will be scaled to unit variance.\n",
    "\n",
    "You can also specify the `copy` parameter, which is a boolean that specifies whether to make a copy of the data before scaling. The default value is `True`, which means that a copy will be made. \n",
    "\n",
    "Here is an example of how to create a `StandardScaler` object with the default parameters:\n",
    "\n"
   ]
  },
  {
   "cell_type": "code",
   "execution_count": 6,
   "metadata": {},
   "outputs": [],
   "source": [
    "scaler = StandardScaler()\n",
    "X_train = scaler.fit_transform(X_train)\n",
    "X_test = scaler.transform(X_test)"
   ]
  },
  {
   "cell_type": "code",
   "execution_count": 7,
   "metadata": {},
   "outputs": [
    {
     "data": {
      "text/plain": [
       "array([[-1.02817453, -1.05714987,  0.53420426],\n",
       "       [-1.02817453,  0.2798728 , -0.51764734],\n",
       "       [ 0.97259753, -1.05714987,  0.41733186],\n",
       "       ...,\n",
       "       [-1.02817453, -0.19763529, -0.51764734],\n",
       "       [ 0.97259753, -1.05714987, -0.45921114],\n",
       "       [ 0.97259753, -1.15265148,  1.41074727]])"
      ]
     },
     "execution_count": 7,
     "metadata": {},
     "output_type": "execute_result"
    }
   ],
   "source": [
    "X_train"
   ]
  },
  {
   "cell_type": "code",
   "execution_count": 8,
   "metadata": {},
   "outputs": [
    {
     "data": {
      "text/plain": [
       "array([[-1.02817453, -0.77064501,  0.50498616],\n",
       "       [ 0.97259753, -0.00663206, -0.57608354],\n",
       "       [-1.02817453, -0.29313691,  0.15436896],\n",
       "       [ 0.97259753, -0.77064501,  0.27124136],\n",
       "       [ 0.97259753, -0.29313691, -0.57608354],\n",
       "       [-1.02817453, -1.05714987, -1.45262654],\n",
       "       [ 0.97259753, -0.67514339, -1.59871705],\n",
       "       [-1.02817453, -0.19763529,  2.17041787],\n",
       "       [ 0.97259753, -1.91666444, -0.05015774],\n",
       "       [-1.02817453,  0.85288251, -0.78061024],\n",
       "       [-1.02817453, -0.77064501, -0.60530164],\n",
       "       [ 0.97259753, -0.96164825, -0.42999304],\n",
       "       [-1.02817453, -0.10213368, -0.42999304],\n",
       "       [-1.02817453,  0.08886956,  0.21280516],\n",
       "       [-1.02817453, -1.7256612 ,  0.47576806],\n",
       "       [ 0.97259753, -0.57964177,  1.38152917],\n",
       "       [-1.02817453, -0.10213368,  0.21280516],\n",
       "       [-1.02817453, -1.82116282,  0.44654996],\n",
       "       [ 0.97259753,  1.61689547,  1.76136447],\n",
       "       [-1.02817453, -0.29313691, -1.39419034],\n",
       "       [ 0.97259753, -0.29313691, -0.66373784],\n",
       "       [ 0.97259753,  0.85288251,  2.17041787],\n",
       "       [ 0.97259753,  0.2798728 , -0.54686544],\n",
       "       [-1.02817453,  0.85288251,  1.03091197],\n",
       "       [ 0.97259753, -1.43915634, -1.21888174],\n",
       "       [ 0.97259753,  1.04388575,  2.08276357],\n",
       "       [ 0.97259753, -0.96164825,  0.50498616],\n",
       "       [-1.02817453, -0.86614663,  0.30045946],\n",
       "       [ 0.97259753, -0.10213368, -0.22546634],\n",
       "       [ 0.97259753, -0.57964177,  0.47576806],\n",
       "       [-1.02817453, -1.63015958,  0.53420426],\n",
       "       [-1.02817453, -0.10213368,  0.27124136],\n",
       "       [-1.02817453,  1.8078987 , -0.28390254],\n",
       "       [-1.02817453, -0.10213368, -0.48842924],\n",
       "       [-1.02817453, -1.34365472, -0.34233874],\n",
       "       [-1.02817453, -1.91666444, -0.51764734],\n",
       "       [-1.02817453, -1.53465796,  0.32967756],\n",
       "       [ 0.97259753, -0.38863853, -0.78061024],\n",
       "       [ 0.97259753, -0.67514339, -1.04357314],\n",
       "       [ 0.97259753,  1.04388575, -0.98513694]])"
      ]
     },
     "execution_count": 8,
     "metadata": {},
     "output_type": "execute_result"
    }
   ],
   "source": [
    "X_test"
   ]
  }
 ],
 "metadata": {
  "kernelspec": {
   "display_name": "Python 3.9.13 64-bit",
   "language": "python",
   "name": "python3"
  },
  "language_info": {
   "codemirror_mode": {
    "name": "ipython",
    "version": 3
   },
   "file_extension": ".py",
   "mimetype": "text/x-python",
   "name": "python",
   "nbconvert_exporter": "python",
   "pygments_lexer": "ipython3",
   "version": "3.11.4"
  },
  "orig_nbformat": 4,
  "vscode": {
   "interpreter": {
    "hash": "aee8b7b246df8f9039afb4144a1f6fd8d2ca17a180786b69acc140d282b71a49"
   }
  }
 },
 "nbformat": 4,
 "nbformat_minor": 2
}
