{
 "cells": [
  {
   "cell_type": "markdown",
   "metadata": {},
   "source": [
    "# RobustScaler\n"
   ]
  },
  {
   "cell_type": "code",
   "execution_count": 1,
   "metadata": {},
   "outputs": [],
   "source": [
    "import pandas as pd\n",
    "from sklearn.model_selection import train_test_split\n",
    "from sklearn.preprocessing import RobustScaler"
   ]
  },
  {
   "cell_type": "code",
   "execution_count": 2,
   "metadata": {},
   "outputs": [
    {
     "data": {
      "text/html": [
       "<div>\n",
       "<style scoped>\n",
       "    .dataframe tbody tr th:only-of-type {\n",
       "        vertical-align: middle;\n",
       "    }\n",
       "\n",
       "    .dataframe tbody tr th {\n",
       "        vertical-align: top;\n",
       "    }\n",
       "\n",
       "    .dataframe thead th {\n",
       "        text-align: right;\n",
       "    }\n",
       "</style>\n",
       "<table border=\"1\" class=\"dataframe\">\n",
       "  <thead>\n",
       "    <tr style=\"text-align: right;\">\n",
       "      <th></th>\n",
       "      <th>Gender</th>\n",
       "      <th>Age</th>\n",
       "      <th>EstimatedSalary</th>\n",
       "      <th>Purchased</th>\n",
       "    </tr>\n",
       "  </thead>\n",
       "  <tbody>\n",
       "    <tr>\n",
       "      <th>0</th>\n",
       "      <td>1</td>\n",
       "      <td>19</td>\n",
       "      <td>19000</td>\n",
       "      <td>0</td>\n",
       "    </tr>\n",
       "    <tr>\n",
       "      <th>1</th>\n",
       "      <td>1</td>\n",
       "      <td>35</td>\n",
       "      <td>20000</td>\n",
       "      <td>0</td>\n",
       "    </tr>\n",
       "    <tr>\n",
       "      <th>2</th>\n",
       "      <td>2</td>\n",
       "      <td>26</td>\n",
       "      <td>43000</td>\n",
       "      <td>0</td>\n",
       "    </tr>\n",
       "    <tr>\n",
       "      <th>3</th>\n",
       "      <td>2</td>\n",
       "      <td>27</td>\n",
       "      <td>57000</td>\n",
       "      <td>0</td>\n",
       "    </tr>\n",
       "    <tr>\n",
       "      <th>4</th>\n",
       "      <td>1</td>\n",
       "      <td>19</td>\n",
       "      <td>76000</td>\n",
       "      <td>0</td>\n",
       "    </tr>\n",
       "  </tbody>\n",
       "</table>\n",
       "</div>"
      ],
      "text/plain": [
       "   Gender  Age  EstimatedSalary  Purchased\n",
       "0       1   19            19000          0\n",
       "1       1   35            20000          0\n",
       "2       2   26            43000          0\n",
       "3       2   27            57000          0\n",
       "4       1   19            76000          0"
      ]
     },
     "execution_count": 2,
     "metadata": {},
     "output_type": "execute_result"
    }
   ],
   "source": [
    "df = pd.read_csv(\"../../Datasets/SocialNetworkAds.csv\")\n",
    "df.head()"
   ]
  },
  {
   "cell_type": "code",
   "execution_count": 3,
   "metadata": {},
   "outputs": [],
   "source": [
    "X = df.iloc[:, :-1].values\n",
    "y = df.iloc[:, -1].values"
   ]
  },
  {
   "cell_type": "code",
   "execution_count": 4,
   "metadata": {},
   "outputs": [],
   "source": [
    "X_train, X_test, y_train, y_test = train_test_split(X, y, test_size=0.1, random_state=0)"
   ]
  },
  {
   "cell_type": "markdown",
   "metadata": {},
   "source": [
    "The `RobustScaler` class in scikit-learn has two main parameters:\n",
    "\n",
    "- `with_centering`: This is a boolean parameter that specifies whether to center the data before scaling. The default value is `True`, which means that the data will be centered before scaling.\n",
    "\n",
    "- `with_scaling`: This is a boolean parameter that specifies whether to scale the data to unit variance. The default value is `True`, which means that the data will be scaled to unit variance.\n",
    "\n",
    "You can also specify the `quantile_range` parameter, which is a tuple that specifies the range of the data to be used for scaling. The default value is `(25.0, 75.0)`, which means that the data will be scaled using the interquartile range (IQR).\n",
    "\n",
    "Here is an example of how to create a `RobustScaler` object with the default parameters:\n"
   ]
  },
  {
   "cell_type": "code",
   "execution_count": 5,
   "metadata": {},
   "outputs": [],
   "source": [
    "scaler = RobustScaler()\n",
    "X_train = scaler.fit_transform(X_train)\n",
    "X_test = scaler.transform(X_test)"
   ]
  },
  {
   "cell_type": "code",
   "execution_count": 6,
   "metadata": {},
   "outputs": [
    {
     "data": {
      "text/plain": [
       "array([[-1.        , -0.65625   ,  0.4       ],\n",
       "       [-1.        ,  0.21875   , -0.4       ],\n",
       "       [ 0.        , -0.65625   ,  0.31111111],\n",
       "       ...,\n",
       "       [-1.        , -0.09375   , -0.4       ],\n",
       "       [ 0.        , -0.65625   , -0.35555556],\n",
       "       [ 0.        , -0.71875   ,  1.06666667]])"
      ]
     },
     "execution_count": 6,
     "metadata": {},
     "output_type": "execute_result"
    }
   ],
   "source": [
    "X_train"
   ]
  },
  {
   "cell_type": "code",
   "execution_count": 7,
   "metadata": {},
   "outputs": [
    {
     "data": {
      "text/plain": [
       "array([[-1.        , -0.46875   ,  0.37777778],\n",
       "       [ 0.        ,  0.03125   , -0.44444444],\n",
       "       [-1.        , -0.15625   ,  0.11111111],\n",
       "       [ 0.        , -0.46875   ,  0.2       ],\n",
       "       [ 0.        , -0.15625   , -0.44444444],\n",
       "       [-1.        , -0.65625   , -1.11111111],\n",
       "       [ 0.        , -0.40625   , -1.22222222],\n",
       "       [-1.        , -0.09375   ,  1.64444444],\n",
       "       [ 0.        , -1.21875   , -0.04444444],\n",
       "       [-1.        ,  0.59375   , -0.6       ],\n",
       "       [-1.        , -0.46875   , -0.46666667],\n",
       "       [ 0.        , -0.59375   , -0.33333333],\n",
       "       [-1.        , -0.03125   , -0.33333333],\n",
       "       [-1.        ,  0.09375   ,  0.15555556],\n",
       "       [-1.        , -1.09375   ,  0.35555556],\n",
       "       [ 0.        , -0.34375   ,  1.04444444],\n",
       "       [-1.        , -0.03125   ,  0.15555556],\n",
       "       [-1.        , -1.15625   ,  0.33333333],\n",
       "       [ 0.        ,  1.09375   ,  1.33333333],\n",
       "       [-1.        , -0.15625   , -1.06666667],\n",
       "       [ 0.        , -0.15625   , -0.51111111],\n",
       "       [ 0.        ,  0.59375   ,  1.64444444],\n",
       "       [ 0.        ,  0.21875   , -0.42222222],\n",
       "       [-1.        ,  0.59375   ,  0.77777778],\n",
       "       [ 0.        , -0.90625   , -0.93333333],\n",
       "       [ 0.        ,  0.71875   ,  1.57777778],\n",
       "       [ 0.        , -0.59375   ,  0.37777778],\n",
       "       [-1.        , -0.53125   ,  0.22222222],\n",
       "       [ 0.        , -0.03125   , -0.17777778],\n",
       "       [ 0.        , -0.34375   ,  0.35555556],\n",
       "       [-1.        , -1.03125   ,  0.4       ],\n",
       "       [-1.        , -0.03125   ,  0.2       ],\n",
       "       [-1.        ,  1.21875   , -0.22222222],\n",
       "       [-1.        , -0.03125   , -0.37777778],\n",
       "       [-1.        , -0.84375   , -0.26666667],\n",
       "       [-1.        , -1.21875   , -0.4       ],\n",
       "       [-1.        , -0.96875   ,  0.24444444],\n",
       "       [ 0.        , -0.21875   , -0.6       ],\n",
       "       [ 0.        , -0.40625   , -0.8       ],\n",
       "       [ 0.        ,  0.71875   , -0.75555556]])"
      ]
     },
     "execution_count": 7,
     "metadata": {},
     "output_type": "execute_result"
    }
   ],
   "source": [
    "X_test"
   ]
  }
 ],
 "metadata": {
  "kernelspec": {
   "display_name": "Python 3.9.13 64-bit",
   "language": "python",
   "name": "python3"
  },
  "language_info": {
   "codemirror_mode": {
    "name": "ipython",
    "version": 3
   },
   "file_extension": ".py",
   "mimetype": "text/x-python",
   "name": "python",
   "nbconvert_exporter": "python",
   "pygments_lexer": "ipython3",
   "version": "3.11.4"
  },
  "orig_nbformat": 4,
  "vscode": {
   "interpreter": {
    "hash": "aee8b7b246df8f9039afb4144a1f6fd8d2ca17a180786b69acc140d282b71a49"
   }
  }
 },
 "nbformat": 4,
 "nbformat_minor": 2
}
