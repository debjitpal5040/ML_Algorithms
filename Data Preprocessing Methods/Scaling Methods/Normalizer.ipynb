{
 "cells": [
  {
   "cell_type": "markdown",
   "metadata": {},
   "source": [
    "# Normalizer\n"
   ]
  },
  {
   "cell_type": "code",
   "execution_count": 1,
   "metadata": {},
   "outputs": [],
   "source": [
    "import pandas as pd\n",
    "from sklearn.model_selection import train_test_split\n",
    "from sklearn.preprocessing import Normalizer"
   ]
  },
  {
   "cell_type": "code",
   "execution_count": 2,
   "metadata": {},
   "outputs": [
    {
     "data": {
      "text/html": [
       "<div>\n",
       "<style scoped>\n",
       "    .dataframe tbody tr th:only-of-type {\n",
       "        vertical-align: middle;\n",
       "    }\n",
       "\n",
       "    .dataframe tbody tr th {\n",
       "        vertical-align: top;\n",
       "    }\n",
       "\n",
       "    .dataframe thead th {\n",
       "        text-align: right;\n",
       "    }\n",
       "</style>\n",
       "<table border=\"1\" class=\"dataframe\">\n",
       "  <thead>\n",
       "    <tr style=\"text-align: right;\">\n",
       "      <th></th>\n",
       "      <th>Gender</th>\n",
       "      <th>Age</th>\n",
       "      <th>EstimatedSalary</th>\n",
       "      <th>Purchased</th>\n",
       "    </tr>\n",
       "  </thead>\n",
       "  <tbody>\n",
       "    <tr>\n",
       "      <th>0</th>\n",
       "      <td>1</td>\n",
       "      <td>19</td>\n",
       "      <td>19000</td>\n",
       "      <td>0</td>\n",
       "    </tr>\n",
       "    <tr>\n",
       "      <th>1</th>\n",
       "      <td>1</td>\n",
       "      <td>35</td>\n",
       "      <td>20000</td>\n",
       "      <td>0</td>\n",
       "    </tr>\n",
       "    <tr>\n",
       "      <th>2</th>\n",
       "      <td>2</td>\n",
       "      <td>26</td>\n",
       "      <td>43000</td>\n",
       "      <td>0</td>\n",
       "    </tr>\n",
       "    <tr>\n",
       "      <th>3</th>\n",
       "      <td>2</td>\n",
       "      <td>27</td>\n",
       "      <td>57000</td>\n",
       "      <td>0</td>\n",
       "    </tr>\n",
       "    <tr>\n",
       "      <th>4</th>\n",
       "      <td>1</td>\n",
       "      <td>19</td>\n",
       "      <td>76000</td>\n",
       "      <td>0</td>\n",
       "    </tr>\n",
       "  </tbody>\n",
       "</table>\n",
       "</div>"
      ],
      "text/plain": [
       "   Gender  Age  EstimatedSalary  Purchased\n",
       "0       1   19            19000          0\n",
       "1       1   35            20000          0\n",
       "2       2   26            43000          0\n",
       "3       2   27            57000          0\n",
       "4       1   19            76000          0"
      ]
     },
     "execution_count": 2,
     "metadata": {},
     "output_type": "execute_result"
    }
   ],
   "source": [
    "df = pd.read_csv(\"../../Datasets/SocialNetworkAds.csv\")\n",
    "df.head()"
   ]
  },
  {
   "cell_type": "code",
   "execution_count": 3,
   "metadata": {},
   "outputs": [],
   "source": [
    "X = df.iloc[:, :-1].values\n",
    "y = df.iloc[:, -1].values"
   ]
  },
  {
   "cell_type": "code",
   "execution_count": 4,
   "metadata": {},
   "outputs": [],
   "source": [
    "X_train, X_test, y_train, y_test = train_test_split(X, y, test_size=0.1, random_state=0)"
   ]
  },
  {
   "cell_type": "markdown",
   "metadata": {},
   "source": [
    "The `Normalizer` class in scikit-learn has two main parameters:\n",
    "\n",
    "- `norm`: This parameter specifies the type of normalization to apply. The default value is `'l2'`, which means that the data will be normalized to have unit norm. Other possible values include `'l1'` and `'max'`.\n",
    "\n",
    "- `copy`: This parameter specifies whether to make a copy of the data before normalizing it. The default value is `True`, which means that a copy will be made.\n",
    "\n",
    "Here is an example of how to create a `Normalizer` object with the default parameters:\n"
   ]
  },
  {
   "cell_type": "code",
   "execution_count": 5,
   "metadata": {},
   "outputs": [],
   "source": [
    "scaler = Normalizer()\n",
    "X_train = scaler.fit_transform(X_train)\n",
    "X_test = scaler.transform(X_test)"
   ]
  },
  {
   "cell_type": "code",
   "execution_count": 6,
   "metadata": {},
   "outputs": [
    {
     "data": {
      "text/plain": [
       "array([[1.13636358e-05, 3.06818167e-04, 9.99999953e-01],\n",
       "       [1.92307632e-05, 7.88461293e-04, 9.99999689e-01],\n",
       "       [2.38095226e-05, 3.21428555e-04, 9.99999948e-01],\n",
       "       ...,\n",
       "       [1.92307646e-05, 6.92307526e-04, 9.99999760e-01],\n",
       "       [3.70370324e-05, 4.99999937e-04, 9.99999874e-01],\n",
       "       [1.69491521e-05, 2.20338978e-04, 9.99999976e-01]])"
      ]
     },
     "execution_count": 6,
     "metadata": {},
     "output_type": "execute_result"
    }
   ],
   "source": [
    "X_train"
   ]
  },
  {
   "cell_type": "code",
   "execution_count": 7,
   "metadata": {},
   "outputs": [
    {
     "data": {
      "text/plain": [
       "array([[1.14942522e-05, 3.44827566e-04, 9.99999940e-01],\n",
       "       [3.99999884e-05, 7.59999780e-04, 9.99999710e-01],\n",
       "       [1.33333319e-05, 4.66666616e-04, 9.99999891e-01],\n",
       "       [2.53164539e-05, 3.79746808e-04, 9.99999928e-01],\n",
       "       [3.99999902e-05, 6.99999828e-04, 9.99999754e-01],\n",
       "       [4.99999544e-05, 1.34999877e-03, 9.99999088e-01],\n",
       "       [1.33333047e-04, 2.06666223e-03, 9.99997856e-01],\n",
       "       [6.94444423e-06, 2.49999992e-04, 9.99999969e-01],\n",
       "       [2.94117637e-05, 2.64705873e-04, 9.99999965e-01],\n",
       "       [2.32558001e-05, 1.09302260e-03, 9.99999402e-01],\n",
       "       [2.04081594e-05, 6.12244783e-04, 9.99999812e-01],\n",
       "       [3.63636316e-05, 5.09090843e-04, 9.99999870e-01],\n",
       "       [1.81818141e-05, 6.72727120e-04, 9.99999774e-01],\n",
       "       [1.29870113e-05, 5.06493441e-04, 9.99999872e-01],\n",
       "       [1.16279067e-05, 2.32558133e-04, 9.99999973e-01],\n",
       "       [1.70940165e-05, 2.73504263e-04, 9.99999962e-01],\n",
       "       [1.29870115e-05, 4.80519425e-04, 9.99999884e-01],\n",
       "       [1.17647056e-05, 2.23529406e-04, 9.99999975e-01],\n",
       "       [1.53846140e-05, 4.23076885e-04, 9.99999910e-01],\n",
       "       [4.54544879e-05, 1.59090708e-03, 9.99998733e-01],\n",
       "       [4.25531797e-05, 7.44680644e-04, 9.99999722e-01],\n",
       "       [1.38888881e-05, 3.26388871e-04, 9.99999947e-01],\n",
       "       [3.92156736e-05, 8.03921308e-04, 9.99999676e-01],\n",
       "       [9.52380857e-06, 4.47619003e-04, 9.99999900e-01],\n",
       "       [7.14285471e-05, 8.21428292e-04, 9.99999660e-01],\n",
       "       [1.41843963e-05, 3.47517709e-04, 9.99999940e-01],\n",
       "       [2.29885046e-05, 3.21839064e-04, 9.99999948e-01],\n",
       "       [1.24999992e-05, 3.62499976e-04, 9.99999934e-01],\n",
       "       [3.22580588e-05, 5.96774087e-04, 9.99999821e-01],\n",
       "       [2.32558123e-05, 3.72092997e-04, 9.99999931e-01],\n",
       "       [1.13636360e-05, 2.38636357e-04, 9.99999971e-01],\n",
       "       [1.26582265e-05, 4.68354379e-04, 9.99999890e-01],\n",
       "       [1.66666591e-05, 9.49999571e-04, 9.99999549e-01],\n",
       "       [1.88679199e-05, 6.98113037e-04, 9.99999756e-01],\n",
       "       [1.72413778e-05, 4.13793068e-04, 9.99999914e-01],\n",
       "       [1.92307681e-05, 3.46153825e-04, 9.99999940e-01],\n",
       "       [1.23456786e-05, 2.71604928e-04, 9.99999963e-01],\n",
       "       [4.65116133e-05, 7.90697426e-04, 9.99999686e-01],\n",
       "       [5.88235049e-05, 9.11764325e-04, 9.99999583e-01],\n",
       "       [5.55555040e-05, 1.36110985e-03, 9.99999072e-01]])"
      ]
     },
     "execution_count": 7,
     "metadata": {},
     "output_type": "execute_result"
    }
   ],
   "source": [
    "X_test"
   ]
  }
 ],
 "metadata": {
  "kernelspec": {
   "display_name": "Python 3.9.13 64-bit",
   "language": "python",
   "name": "python3"
  },
  "language_info": {
   "codemirror_mode": {
    "name": "ipython",
    "version": 3
   },
   "file_extension": ".py",
   "mimetype": "text/x-python",
   "name": "python",
   "nbconvert_exporter": "python",
   "pygments_lexer": "ipython3",
   "version": "3.12.1"
  },
  "orig_nbformat": 4,
  "vscode": {
   "interpreter": {
    "hash": "aee8b7b246df8f9039afb4144a1f6fd8d2ca17a180786b69acc140d282b71a49"
   }
  }
 },
 "nbformat": 4,
 "nbformat_minor": 2
}
