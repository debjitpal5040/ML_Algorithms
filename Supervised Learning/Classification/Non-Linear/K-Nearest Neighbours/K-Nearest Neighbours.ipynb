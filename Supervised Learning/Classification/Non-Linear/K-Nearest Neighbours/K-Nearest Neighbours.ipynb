{
 "metadata": {
  "language_info": {
   "codemirror_mode": {
    "name": "ipython",
    "version": 3
   },
   "file_extension": ".py",
   "mimetype": "text/x-python",
   "name": "python",
   "nbconvert_exporter": "python",
   "pygments_lexer": "ipython3",
   "version": 3
  },
  "orig_nbformat": 4
 },
 "nbformat": 4,
 "nbformat_minor": 2,
 "cells": [
  {
   "cell_type": "code",
   "execution_count": null,
   "metadata": {},
   "outputs": [],
   "source": [
    "from sklearn.model_selection import train_test_split # splitting the dataset\n",
    "from sklearn.preprocessing import StandardScaler # data preprocessing\n",
    "from sklearn.neighbors import KNeighborsClassifier\n",
    " # classification algorithm\n",
    " from sklearn.metrics import confusion_matrix,accuracy_score,roc_curve,classification_report,auc # accuracy metrics"
   ]
  }
 ]
}