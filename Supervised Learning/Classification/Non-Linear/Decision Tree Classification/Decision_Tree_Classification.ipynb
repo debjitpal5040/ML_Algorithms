{
  "nbformat": 4,
  "nbformat_minor": 0,
  "metadata": {
    "orig_nbformat": 4,
    "colab": {
      "name": "Decision Tree Classification.ipynb",
      "provenance": []
    },
    "language_info": {
      "name": "python"
    },
    "kernelspec": {
      "name": "python3",
      "display_name": "Python 3"
    }
  },
  "cells": [
    {
      "cell_type": "markdown",
      "metadata": {
        "id": "W35tdRmKVawy"
      },
      "source": [
        "### Importing the necessary libraries and packages"
      ]
    },
    {
      "cell_type": "code",
      "metadata": {
        "id": "3ko8Z7SUTgl7"
      },
      "source": [
        "from sklearn.model_selection import train_test_split # splitting the dataset\n",
        "from sklearn.preprocessing import StandardScaler # data preprocessing\n",
        "from sklearn.tree import DecisionTreeClassifier # classification algorithm\n",
        "from sklearn.metrics import confusion_matrix, accuracy_score, roc_curve, classification_report, auc, roc_auc_score # accuracy metrics\n",
        "import pandas as pd # data processing\n",
        "import matplotlib.pyplot as plt # data plotting"
      ],
      "execution_count": 1,
      "outputs": []
    },
    {
      "cell_type": "markdown",
      "metadata": {
        "id": "XDC5Tn-lVkGT"
      },
      "source": [
        "### Importing the csv file as a dataFrame"
      ]
    },
    {
      "cell_type": "code",
      "metadata": {
        "colab": {
          "base_uri": "https://localhost:8080/",
          "height": 204
        },
        "id": "6eWSe84lTp0T",
        "outputId": "c3e2d7fd-4f8b-4bb3-91da-01e472f2b146"
      },
      "source": [
        "df=pd.read_csv(\"Heart.csv\")\n",
        "df.head()"
      ],
      "execution_count": 2,
      "outputs": [
        {
          "output_type": "execute_result",
          "data": {
            "text/html": [
              "<div>\n",
              "<style scoped>\n",
              "    .dataframe tbody tr th:only-of-type {\n",
              "        vertical-align: middle;\n",
              "    }\n",
              "\n",
              "    .dataframe tbody tr th {\n",
              "        vertical-align: top;\n",
              "    }\n",
              "\n",
              "    .dataframe thead th {\n",
              "        text-align: right;\n",
              "    }\n",
              "</style>\n",
              "<table border=\"1\" class=\"dataframe\">\n",
              "  <thead>\n",
              "    <tr style=\"text-align: right;\">\n",
              "      <th></th>\n",
              "      <th>age</th>\n",
              "      <th>sex</th>\n",
              "      <th>cp</th>\n",
              "      <th>trestbps</th>\n",
              "      <th>chol</th>\n",
              "      <th>fbs</th>\n",
              "      <th>restecg</th>\n",
              "      <th>thalach</th>\n",
              "      <th>exang</th>\n",
              "      <th>oldpeak</th>\n",
              "      <th>slope</th>\n",
              "      <th>ca</th>\n",
              "      <th>thal</th>\n",
              "      <th>target</th>\n",
              "    </tr>\n",
              "  </thead>\n",
              "  <tbody>\n",
              "    <tr>\n",
              "      <th>0</th>\n",
              "      <td>63</td>\n",
              "      <td>1</td>\n",
              "      <td>3</td>\n",
              "      <td>145</td>\n",
              "      <td>233</td>\n",
              "      <td>1</td>\n",
              "      <td>0</td>\n",
              "      <td>150</td>\n",
              "      <td>0</td>\n",
              "      <td>2.3</td>\n",
              "      <td>0</td>\n",
              "      <td>0</td>\n",
              "      <td>1</td>\n",
              "      <td>1</td>\n",
              "    </tr>\n",
              "    <tr>\n",
              "      <th>1</th>\n",
              "      <td>37</td>\n",
              "      <td>1</td>\n",
              "      <td>2</td>\n",
              "      <td>130</td>\n",
              "      <td>250</td>\n",
              "      <td>0</td>\n",
              "      <td>1</td>\n",
              "      <td>187</td>\n",
              "      <td>0</td>\n",
              "      <td>3.5</td>\n",
              "      <td>0</td>\n",
              "      <td>0</td>\n",
              "      <td>2</td>\n",
              "      <td>1</td>\n",
              "    </tr>\n",
              "    <tr>\n",
              "      <th>2</th>\n",
              "      <td>41</td>\n",
              "      <td>0</td>\n",
              "      <td>1</td>\n",
              "      <td>130</td>\n",
              "      <td>204</td>\n",
              "      <td>0</td>\n",
              "      <td>0</td>\n",
              "      <td>172</td>\n",
              "      <td>0</td>\n",
              "      <td>1.4</td>\n",
              "      <td>2</td>\n",
              "      <td>0</td>\n",
              "      <td>2</td>\n",
              "      <td>1</td>\n",
              "    </tr>\n",
              "    <tr>\n",
              "      <th>3</th>\n",
              "      <td>56</td>\n",
              "      <td>1</td>\n",
              "      <td>1</td>\n",
              "      <td>120</td>\n",
              "      <td>236</td>\n",
              "      <td>0</td>\n",
              "      <td>1</td>\n",
              "      <td>178</td>\n",
              "      <td>0</td>\n",
              "      <td>0.8</td>\n",
              "      <td>2</td>\n",
              "      <td>0</td>\n",
              "      <td>2</td>\n",
              "      <td>1</td>\n",
              "    </tr>\n",
              "    <tr>\n",
              "      <th>4</th>\n",
              "      <td>57</td>\n",
              "      <td>0</td>\n",
              "      <td>0</td>\n",
              "      <td>120</td>\n",
              "      <td>354</td>\n",
              "      <td>0</td>\n",
              "      <td>1</td>\n",
              "      <td>163</td>\n",
              "      <td>1</td>\n",
              "      <td>0.6</td>\n",
              "      <td>2</td>\n",
              "      <td>0</td>\n",
              "      <td>2</td>\n",
              "      <td>1</td>\n",
              "    </tr>\n",
              "  </tbody>\n",
              "</table>\n",
              "</div>"
            ],
            "text/plain": [
              "   age  sex  cp  trestbps  chol  fbs  ...  exang  oldpeak  slope  ca  thal  target\n",
              "0   63    1   3       145   233    1  ...      0      2.3      0   0     1       1\n",
              "1   37    1   2       130   250    0  ...      0      3.5      0   0     2       1\n",
              "2   41    0   1       130   204    0  ...      0      1.4      2   0     2       1\n",
              "3   56    1   1       120   236    0  ...      0      0.8      2   0     2       1\n",
              "4   57    0   0       120   354    0  ...      1      0.6      2   0     2       1\n",
              "\n",
              "[5 rows x 14 columns]"
            ]
          },
          "metadata": {
            "tags": []
          },
          "execution_count": 2
        }
      ]
    },
    {
      "cell_type": "markdown",
      "metadata": {
        "id": "nOJPD1dKVruK"
      },
      "source": [
        "\n",
        "### Now taking 2 parts from the dataset:\n",
        "#### X : which contains all the data except the <b>target</b> column<br>y : which contains only the <b>target</b> column "
      ]
    },
    {
      "cell_type": "code",
      "metadata": {
        "colab": {
          "base_uri": "https://localhost:8080/"
        },
        "id": "VkVH_GFVT5wH",
        "outputId": "2f6187e4-bc81-42d9-fa80-dd2999f303ce"
      },
      "source": [
        "X=df.iloc[:,:-1]\n",
        "y=df.iloc[:,-1]\n",
        "print(\"//Independent features//\")\n",
        "print(X.head())\n",
        "print(\"\\n\\n//Dependent feature//\")\n",
        "print(y.head())"
      ],
      "execution_count": 3,
      "outputs": [
        {
          "output_type": "stream",
          "text": [
            "//Independent features//\n",
            "   age  sex  cp  trestbps  chol  fbs  ...  thalach  exang  oldpeak  slope  ca  thal\n",
            "0   63    1   3       145   233    1  ...      150      0      2.3      0   0     1\n",
            "1   37    1   2       130   250    0  ...      187      0      3.5      0   0     2\n",
            "2   41    0   1       130   204    0  ...      172      0      1.4      2   0     2\n",
            "3   56    1   1       120   236    0  ...      178      0      0.8      2   0     2\n",
            "4   57    0   0       120   354    0  ...      163      1      0.6      2   0     2\n",
            "\n",
            "[5 rows x 13 columns]\n",
            "\n",
            "\n",
            "//Dependent feature//\n",
            "0    1\n",
            "1    1\n",
            "2    1\n",
            "3    1\n",
            "4    1\n",
            "Name: target, dtype: int64\n"
          ],
          "name": "stdout"
        }
      ]
    },
    {
      "cell_type": "markdown",
      "metadata": {
        "id": "fla7PKt3V3vJ"
      },
      "source": [
        "### Split the X and y dataframes for test and training"
      ]
    },
    {
      "cell_type": "code",
      "metadata": {
        "id": "8JjGI2rpT92Y"
      },
      "source": [
        "X_train,X_test,y_train,y_test=train_test_split(X,y,test_size=0.4,random_state=42)"
      ],
      "execution_count": 4,
      "outputs": []
    },
    {
      "cell_type": "markdown",
      "metadata": {
        "id": "TR58oYLdV7r8"
      },
      "source": [
        "### Scaling the dataset"
      ]
    },
    {
      "cell_type": "code",
      "metadata": {
        "id": "MCPoqzgOUBDy"
      },
      "source": [
        "scaler=StandardScaler()\n",
        "X_train=scaler.fit_transform(X_train)\n",
        "X_test=scaler.transform(X_test)"
      ],
      "execution_count": 5,
      "outputs": []
    },
    {
      "cell_type": "markdown",
      "metadata": {
        "id": "I-SFhQXfWCdz"
      },
      "source": [
        "# Decision Tree Classification"
      ]
    },
    {
      "cell_type": "code",
      "metadata": {
        "colab": {
          "base_uri": "https://localhost:8080/"
        },
        "id": "ZmnWaUtUUDIT",
        "outputId": "d4601063-b69c-4b1c-ef92-5b380dca47f6"
      },
      "source": [
        "# Decision Tree Classification\n",
        "dt = DecisionTreeClassifier(criterion = 'entropy',random_state=0,max_depth = 6)\n",
        "dt.fit(X_train, y_train)\n",
        "dt_pred = dt.predict(X_test)\n",
        "dt_con_matrix = confusion_matrix(y_test, dt_pred)\n",
        "dt_acc = accuracy_score(y_test, dt_pred)\n",
        "print(\"Confusion Matrix\",'\\n',dt_con_matrix,\"\\n\")\n",
        "print(\"Accuracy of Decision Tree Classification : \",dt_acc*100,\"\\n\")\n",
        "print(\"Classification Report\",'\\n',classification_report(y_test,dt_pred))"
      ],
      "execution_count": 6,
      "outputs": [
        {
          "output_type": "stream",
          "text": [
            "Confusion Matrix \n",
            " [[39 13]\n",
            " [11 59]] \n",
            "\n",
            "Accuracy of Decision Tree Classification :  80.32786885245902 \n",
            "\n",
            "Classification Report \n",
            "               precision    recall  f1-score   support\n",
            "\n",
            "           0       0.78      0.75      0.76        52\n",
            "           1       0.82      0.84      0.83        70\n",
            "\n",
            "    accuracy                           0.80       122\n",
            "   macro avg       0.80      0.80      0.80       122\n",
            "weighted avg       0.80      0.80      0.80       122\n",
            "\n"
          ],
          "name": "stdout"
        }
      ]
    },
    {
      "cell_type": "code",
      "metadata": {
        "id": "L-iO3G2sUcFf"
      },
      "source": [
        "y_score = dt.predict_proba(X_test)[:,1]\n",
        "false_positive_rate, true_positive_rate, threshold = roc_curve(y_test, y_score)"
      ],
      "execution_count": 7,
      "outputs": []
    },
    {
      "cell_type": "markdown",
      "metadata": {
        "id": "1x_IXqfOWGg5"
      },
      "source": [
        "### Plotting the ROC curve"
      ]
    },
    {
      "cell_type": "code",
      "metadata": {
        "colab": {
          "base_uri": "https://localhost:8080/",
          "height": 724
        },
        "id": "YAcxgZ47Ui0a",
        "outputId": "8ced7967-19f1-4789-c8a7-6fafc0a55262"
      },
      "source": [
        "plt.figure(figsize=(5,5),dpi=150)\n",
        "plt.plot(false_positive_rate,true_positive_rate, color='red', label = \"Decision Tree Classification\")\n",
        "plt.title('Receiver Operating Characteristic (ROC) Curve')\n",
        "plt.legend(loc = 'lower right')\n",
        "plt.plot([0, 1], [0, 1],linestyle='--')\n",
        "plt.axis('tight')\n",
        "plt.ylabel('True Positive Rate')\n",
        "plt.xlabel('False Positive Rate')"
      ],
      "execution_count": 8,
      "outputs": [
        {
          "output_type": "execute_result",
          "data": {
            "text/plain": [
              "Text(0.5, 0, 'False Positive Rate')"
            ]
          },
          "metadata": {
            "tags": []
          },
          "execution_count": 8
        },
        {
          "output_type": "display_data",
          "data": {
            "image/png": "[encoded data removed]",
            "text/plain": [
              "<Figure size 750x750 with 1 Axes>"
            ]
          },
          "metadata": {
            "tags": [],
            "needs_background": "light"
          }
        }
      ]
    },
    {
      "cell_type": "markdown",
      "metadata": {
        "id": "DH3FtcCTWHqo"
      },
      "source": [
        "### Computing the AUC of ROC"
      ]
    },
    {
      "cell_type": "code",
      "metadata": {
        "colab": {
          "base_uri": "https://localhost:8080/"
        },
        "id": "tmoKBZ7ZUxbL",
        "outputId": "29b2b171-8315-40fb-caa3-a3d8208bca2b"
      },
      "source": [
        "print(\"Area Under the Curve (AUC) using the trapezoidal rule :\",auc(false_positive_rate,true_positive_rate))\n",
        "print(\"Area Under the Receiver Operating Characteristic Curve :\",roc_auc_score(y_test,y_score))"
      ],
      "execution_count": 9,
      "outputs": [
        {
          "output_type": "stream",
          "text": [
            "Area Under the Curve (AUC) using the trapezoidal rule : 0.7983516483516483\n",
            "Area Under the Receiver Operating Characteristic Curve : 0.7983516483516483\n"
          ],
          "name": "stdout"
        }
      ]
    }
  ]
}