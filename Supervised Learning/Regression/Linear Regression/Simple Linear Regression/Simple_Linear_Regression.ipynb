{
  "nbformat": 4,
  "nbformat_minor": 0,
  "metadata": {
    "colab": {
      "name": "Simple Linear Regression.ipynb",
      "provenance": [],
      "collapsed_sections": []
    },
    "kernelspec": {
      "name": "python3",
      "display_name": "Python 3"
    },
    "language_info": {
      "name": "python"
    }
  },
  "cells": [
    {
      "cell_type": "markdown",
      "metadata": {
        "id": "f-RRueNJM0C0"
      },
      "source": [
        "# Simple Linear Regression"
      ]
    },
    {
      "cell_type": "markdown",
      "metadata": {
        "id": "TKQt84RbeBD5"
      },
      "source": [
        "## Importing the necessary libraries and packages"
      ]
    },
    {
      "cell_type": "code",
      "metadata": {
        "id": "1RCz2ZHF5Hf7"
      },
      "source": [
        "from sklearn.model_selection import train_test_split # splitting the dataset\n",
        "from sklearn.linear_model import LinearRegression # regression algorithm\n",
        "from sklearn.metrics import r2_score # accuracy metric\n",
        "import pandas as pd # data processing \n",
        "import matplotlib.pyplot as plt # data plotting\n",
        "import seaborn as sb # data plotting"
      ],
      "execution_count": 1,
      "outputs": []
    },
    {
      "cell_type": "markdown",
      "metadata": {
        "id": "pv3YRYGmeWeh"
      },
      "source": [
        "## Importing the csv file as a dataFrame"
      ]
    },
    {
      "cell_type": "code",
      "metadata": {
        "id": "O_3UCW_b_Kpw",
        "colab": {
          "base_uri": "https://localhost:8080/",
          "height": 204
        },
        "outputId": "249b0039-eb38-4d3d-b9f6-0cef6d1c4435"
      },
      "source": [
        "df = pd.read_csv(\"Brain-Body.csv\")\n",
        "df.head()"
      ],
      "execution_count": 2,
      "outputs": [
        {
          "output_type": "execute_result",
          "data": {
            "text/html": [
              "<div>\n",
              "<style scoped>\n",
              "    .dataframe tbody tr th:only-of-type {\n",
              "        vertical-align: middle;\n",
              "    }\n",
              "\n",
              "    .dataframe tbody tr th {\n",
              "        vertical-align: top;\n",
              "    }\n",
              "\n",
              "    .dataframe thead th {\n",
              "        text-align: right;\n",
              "    }\n",
              "</style>\n",
              "<table border=\"1\" class=\"dataframe\">\n",
              "  <thead>\n",
              "    <tr style=\"text-align: right;\">\n",
              "      <th></th>\n",
              "      <th>Brain Weight</th>\n",
              "      <th>Body Weight</th>\n",
              "    </tr>\n",
              "  </thead>\n",
              "  <tbody>\n",
              "    <tr>\n",
              "      <th>0</th>\n",
              "      <td>3.385</td>\n",
              "      <td>44.5</td>\n",
              "    </tr>\n",
              "    <tr>\n",
              "      <th>1</th>\n",
              "      <td>0.480</td>\n",
              "      <td>15.5</td>\n",
              "    </tr>\n",
              "    <tr>\n",
              "      <th>2</th>\n",
              "      <td>1.350</td>\n",
              "      <td>8.1</td>\n",
              "    </tr>\n",
              "    <tr>\n",
              "      <th>3</th>\n",
              "      <td>1.040</td>\n",
              "      <td>5.5</td>\n",
              "    </tr>\n",
              "    <tr>\n",
              "      <th>4</th>\n",
              "      <td>4.190</td>\n",
              "      <td>58.0</td>\n",
              "    </tr>\n",
              "  </tbody>\n",
              "</table>\n",
              "</div>"
            ],
            "text/plain": [
              "   Brain Weight  Body Weight\n",
              "0         3.385         44.5\n",
              "1         0.480         15.5\n",
              "2         1.350          8.1\n",
              "3         1.040          5.5\n",
              "4         4.190         58.0"
            ]
          },
          "metadata": {},
          "execution_count": 2
        }
      ]
    },
    {
      "cell_type": "markdown",
      "metadata": {
        "id": "p_xVnEgXegEM"
      },
      "source": [
        "## Now taking 2 parts from the dataset: \n",
        "### X: which contains only the <b>Brain Weight</b> column<br>Y: which contains only the <b>Body Weight</b> column "
      ]
    },
    {
      "cell_type": "code",
      "metadata": {
        "id": "rRl-dNlP_k6U",
        "colab": {
          "base_uri": "https://localhost:8080/"
        },
        "outputId": "6e2237ff-127e-4894-bd2b-47c619ee06a3"
      },
      "source": [
        "X = df.loc[:,[\"Brain Weight\"]]\n",
        "y = df.loc[:,[\"Body Weight\"]]\n",
        "print(\"//Independent feature//\")\n",
        "print(X.head())\n",
        "print(\"\\n\\n//Dependent feature//\")\n",
        "print(y.head())"
      ],
      "execution_count": 3,
      "outputs": [
        {
          "output_type": "stream",
          "text": [
            "//Independent feature//\n",
            "   Brain Weight\n",
            "0         3.385\n",
            "1         0.480\n",
            "2         1.350\n",
            "3         1.040\n",
            "4         4.190\n",
            "\n",
            "\n",
            "//Dependent feature//\n",
            "   Body Weight\n",
            "0         44.5\n",
            "1         15.5\n",
            "2          8.1\n",
            "3          5.5\n",
            "4         58.0\n"
          ],
          "name": "stdout"
        }
      ]
    },
    {
      "cell_type": "markdown",
      "metadata": {
        "id": "AbYOAravg8m3"
      },
      "source": [
        "## Split the <b>X</b> and <b>y</b> dataframes for test and training"
      ]
    },
    {
      "cell_type": "code",
      "metadata": {
        "id": "FYEXpzQGd3km"
      },
      "source": [
        "X_train,X_test,y_train,y_test=train_test_split(X,y,test_size=0.4,random_state=42)"
      ],
      "execution_count": 4,
      "outputs": []
    },
    {
      "cell_type": "markdown",
      "metadata": {
        "id": "yDdfPPRPxBQM"
      },
      "source": [
        "## Implementation of the model"
      ]
    },
    {
      "cell_type": "code",
      "metadata": {
        "id": "BXaPN9hC_u2m"
      },
      "source": [
        "reg=LinearRegression()\n",
        "reg.fit(X_train,y_train)\n",
        "y_pred = reg.predict(X_test)"
      ],
      "execution_count": 5,
      "outputs": []
    },
    {
      "cell_type": "markdown",
      "metadata": {
        "id": "v8AsDPocNoF9"
      },
      "source": [
        "## Performance of the model"
      ]
    },
    {
      "cell_type": "code",
      "metadata": {
        "colab": {
          "base_uri": "https://localhost:8080/"
        },
        "id": "9-X7WqJ-Nmuo",
        "outputId": "762e6d60-fdd7-468c-96ed-569d0be5266c"
      },
      "source": [
        "# Printing the coefficient of determination of the regression\n",
        "print(\"The coefficient of determination :\", r2_score(y_test,y_pred))"
      ],
      "execution_count": 6,
      "outputs": [
        {
          "output_type": "stream",
          "text": [
            "The coefficient of determination : 0.6985123272895638\n"
          ],
          "name": "stdout"
        }
      ]
    },
    {
      "cell_type": "markdown",
      "metadata": {
        "id": "m8g3lu8dmATS"
      },
      "source": [
        "## Plotting the regression"
      ]
    },
    {
      "cell_type": "code",
      "metadata": {
        "colab": {
          "base_uri": "https://localhost:8080/",
          "height": 628
        },
        "id": "jWcV3tdMoxqK",
        "outputId": "04412bfc-b5d4-4435-a3fb-fb075f33769d"
      },
      "source": [
        "plt.figure(figsize=(10, 10))\n",
        "sb.set_theme(color_codes=True)\n",
        "sb.regplot(x=\"Brain Weight\",y=\"Body Weight\",data=df,color='b',marker=\"*\")"
      ],
      "execution_count": 7,
      "outputs": [
        {
          "output_type": "execute_result",
          "data": {
            "text/plain": [
              "<matplotlib.axes._subplots.AxesSubplot at 0x7f0c1c7be3d0>"
            ]
          },
          "metadata": {},
          "execution_count": 7
        },
        {
          "output_type": "display_data",
          "data": {
            "image/png": "[encoded data removed]",
            "text/plain": [
              "<Figure size 720x720 with 1 Axes>"
            ]
          },
          "metadata": {
            "needs_background": "light"
          }
        }
      ]
    }
  ]
}