{
 "metadata": {
  "language_info": {
   "codemirror_mode": {
    "name": "ipython",
    "version": 3
   },
   "file_extension": ".py",
   "mimetype": "text/x-python",
   "name": "python",
   "nbconvert_exporter": "python",
   "pygments_lexer": "ipython3",
   "version": 3
  },
  "orig_nbformat": 4
 },
 "nbformat": 4,
 "nbformat_minor": 2,
 "cells": [
  {
   "cell_type": "code",
   "execution_count": null,
   "metadata": {},
   "outputs": [],
   "source": [
    "from sklearn.model_selection import train_test_split # splitting the dataset\n",
    "from sklearn.linear_model import LinearRegression # regression algorithm\n",
    "from sklearn.metrics import r2_score # accuracy metric\n",
    "import numpy as np # linear algebra\n",
    "import pandas as pd # data processing \n",
    "import matplotlib.pyplot as plt # data plotting\n",
    "import seaborn as sb # data plotting"
   ]
  }
 ]
}