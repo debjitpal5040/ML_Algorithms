{
  "nbformat": 4,
  "nbformat_minor": 0,
  "metadata": {
    "orig_nbformat": 4,
    "colab": {
      "name": "Multiple_Linear_Regression.ipynb",
      "provenance": []
    },
    "language_info": {
      "name": "python"
    },
    "kernelspec": {
      "name": "python3",
      "display_name": "Python 3"
    }
  },
  "cells": [
    {
      "cell_type": "code",
      "metadata": {
        "id": "wnuKDqjD8aDA"
      },
      "source": [
        "from sklearn.model_selection import train_test_split # splitting the dataset\n",
        "from sklearn.linear_model import LinearRegression # regression algorithm\n",
        "from sklearn.metrics import r2_score # accuracy metric\n",
        "import numpy as np # linear algebra\n",
        "import pandas as pd # data processing \n",
        "import matplotlib.pyplot as plt # data plotting\n",
        "import seaborn as sb # data plotting"
      ],
      "execution_count": 4,
      "outputs": []
    },
    {
      "cell_type": "code",
      "metadata": {
        "id": "juaCB0iB8oQL"
      },
      "source": [
        "df = pd.read_csv(\"Car Dataset.csv\")"
      ],
      "execution_count": 5,
      "outputs": []
    },
    {
      "cell_type": "code",
      "metadata": {
        "id": "mZqNgeYm8xWB",
        "colab": {
          "base_uri": "https://localhost:8080/",
          "height": 204
        },
        "outputId": "90990911-27c7-4147-dc9f-b17d9134b47c"
      },
      "source": [
        "df.head()"
      ],
      "execution_count": 6,
      "outputs": [
        {
          "output_type": "execute_result",
          "data": {
            "text/html": [
              "<div>\n",
              "<style scoped>\n",
              "    .dataframe tbody tr th:only-of-type {\n",
              "        vertical-align: middle;\n",
              "    }\n",
              "\n",
              "    .dataframe tbody tr th {\n",
              "        vertical-align: top;\n",
              "    }\n",
              "\n",
              "    .dataframe thead th {\n",
              "        text-align: right;\n",
              "    }\n",
              "</style>\n",
              "<table border=\"1\" class=\"dataframe\">\n",
              "  <thead>\n",
              "    <tr style=\"text-align: right;\">\n",
              "      <th></th>\n",
              "      <th>Car</th>\n",
              "      <th>Model</th>\n",
              "      <th>Volume</th>\n",
              "      <th>Weight</th>\n",
              "      <th>CO2</th>\n",
              "    </tr>\n",
              "  </thead>\n",
              "  <tbody>\n",
              "    <tr>\n",
              "      <th>0</th>\n",
              "      <td>Toyota</td>\n",
              "      <td>Aygo</td>\n",
              "      <td>1000</td>\n",
              "      <td>790</td>\n",
              "      <td>99</td>\n",
              "    </tr>\n",
              "    <tr>\n",
              "      <th>1</th>\n",
              "      <td>Mitsubishi</td>\n",
              "      <td>Space Star</td>\n",
              "      <td>1200</td>\n",
              "      <td>1160</td>\n",
              "      <td>95</td>\n",
              "    </tr>\n",
              "    <tr>\n",
              "      <th>2</th>\n",
              "      <td>Skoda</td>\n",
              "      <td>Citigo</td>\n",
              "      <td>1000</td>\n",
              "      <td>929</td>\n",
              "      <td>95</td>\n",
              "    </tr>\n",
              "    <tr>\n",
              "      <th>3</th>\n",
              "      <td>Fiat</td>\n",
              "      <td>500</td>\n",
              "      <td>900</td>\n",
              "      <td>865</td>\n",
              "      <td>90</td>\n",
              "    </tr>\n",
              "    <tr>\n",
              "      <th>4</th>\n",
              "      <td>Mini</td>\n",
              "      <td>Cooper</td>\n",
              "      <td>1500</td>\n",
              "      <td>1140</td>\n",
              "      <td>105</td>\n",
              "    </tr>\n",
              "  </tbody>\n",
              "</table>\n",
              "</div>"
            ],
            "text/plain": [
              "          Car       Model  Volume  Weight  CO2\n",
              "0      Toyota        Aygo    1000     790   99\n",
              "1  Mitsubishi  Space Star    1200    1160   95\n",
              "2       Skoda      Citigo    1000     929   95\n",
              "3        Fiat         500     900     865   90\n",
              "4        Mini      Cooper    1500    1140  105"
            ]
          },
          "metadata": {
            "tags": []
          },
          "execution_count": 6
        }
      ]
    },
    {
      "cell_type": "code",
      "metadata": {
        "id": "dyh4aptR8zwz",
        "colab": {
          "base_uri": "https://localhost:8080/"
        },
        "outputId": "5dac3e62-8147-40c5-e1b6-891bbfc09b2e"
      },
      "source": [
        "X = df[['Weight', 'Volume']]\n",
        "y = df['CO2']\n",
        "X= np.array(X)\n",
        "y=np.array(y)\n",
        "y=y.reshape(-1,1)\n",
        "X_train,X_test,y_train,y_test=train_test_split(X,y,random_state=42)"
      ],
      "execution_count": 8,
      "outputs": [
        {
          "output_type": "stream",
          "text": [
            "    Weight  Volume\n",
            "0      790    1000\n",
            "1     1160    1200\n",
            "2      929    1000\n",
            "3      865     900\n",
            "4     1140    1500\n",
            "5      929    1000\n",
            "6     1109    1400\n",
            "7     1365    1500\n",
            "8     1112    1500\n",
            "9     1150    1600\n",
            "10     980    1100\n",
            "11     990    1300\n",
            "12    1112    1000\n",
            "13    1252    1600\n",
            "14    1326    1600\n",
            "15    1330    1600\n",
            "16    1365    1600\n",
            "17    1280    2200\n",
            "18    1119    1600\n",
            "19    1328    2000\n",
            "20    1584    1600\n",
            "21    1428    2000\n",
            "22    1365    2100\n",
            "23    1415    1600\n",
            "24    1415    2000\n",
            "25    1465    1500\n",
            "26    1490    2000\n",
            "27    1725    2000\n",
            "28    1523    1600\n",
            "29    1705    2000\n",
            "30    1605    2100\n",
            "31    1746    2000\n",
            "32    1235    1600\n",
            "33    1390    1600\n",
            "34    1405    1600\n",
            "35    1395    2500\n"
          ],
          "name": "stdout"
        }
      ]
    },
    {
      "cell_type": "code",
      "metadata": {
        "colab": {
          "base_uri": "https://localhost:8080/"
        },
        "id": "YLVE4ni8JfxC",
        "outputId": "63a57ec4-7ac3-47f9-c993-d57f5296b3ae"
      },
      "source": [
        "reg=LinearRegression()\n",
        "reg.fit(X_train,y_train)\n",
        "y_pred = reg.predict(X_test)\n",
        "print(y_pred)\n",
        "print(r2_score(y_test,y_pred))"
      ],
      "execution_count": 9,
      "outputs": [
        {
          "output_type": "stream",
          "text": [
            "[[106.31236082]\n",
            " [101.22176309]\n",
            " [104.83576743]\n",
            " [106.16925734]\n",
            " [102.09723585]\n",
            " [106.81913934]\n",
            " [104.35541954]\n",
            " [ 97.4819742 ]\n",
            " [ 99.69458451]]\n",
            "0.3779609856472951\n"
          ],
          "name": "stdout"
        }
      ]
    },
    {
      "cell_type": "code",
      "metadata": {
        "id": "8FqTAH_IJnVf"
      },
      "source": [
        ""
      ],
      "execution_count": null,
      "outputs": []
    }
  ]
}