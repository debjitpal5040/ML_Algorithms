{
 "cells": [
  {
   "cell_type": "code",
   "execution_count": null,
   "metadata": {},
   "outputs": [],
   "source": [
    "from sklearn.model_selection import train_test_split # splitting the dataset\n",
    "from sklearn.preprocessing import StandardScaler # data preprocessing\n",
    "from sklearn.ensemble import RandomForestRegressor\n",
    "import pandas as pd # data processing \n",
    "import matplotlib.pyplot as plt # data plotting\n",
    "import seaborn as sb # data plotting"
   ]
  }
 ],
 "metadata": {
  "language_info": {
   "name": "python",
   "nbconvert_exporter": "python"
  },
  "orig_nbformat": 4
 },
 "nbformat": 4,
 "nbformat_minor": 2
}