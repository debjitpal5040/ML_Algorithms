{
 "cells": [
  {
   "cell_type": "markdown",
   "source": [
    "### Importing necessary libraries and packages"
   ],
   "metadata": {}
  }
 ],
 "metadata": {
  "orig_nbformat": 4,
  "language_info": {
   "name": "python"
  }
 },
 "nbformat": 4,
 "nbformat_minor": 2
}