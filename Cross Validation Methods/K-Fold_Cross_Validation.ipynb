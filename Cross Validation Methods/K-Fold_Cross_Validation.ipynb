{
 "cells": [
  {
   "cell_type": "code",
   "execution_count": 1,
   "metadata": {},
   "outputs": [],
   "source": [
    "import pandas as pd\n",
    "from sklearn.datasets import load_wine\n",
    "from sklearn.ensemble import RandomForestClassifier\n",
    "from sklearn.model_selection import KFold, cross_val_score"
   ]
  },
  {
   "cell_type": "code",
   "execution_count": 2,
   "metadata": {},
   "outputs": [
    {
     "data": {
      "text/html": [
       "<div>\n",
       "<style scoped>\n",
       "    .dataframe tbody tr th:only-of-type {\n",
       "        vertical-align: middle;\n",
       "    }\n",
       "\n",
       "    .dataframe tbody tr th {\n",
       "        vertical-align: top;\n",
       "    }\n",
       "\n",
       "    .dataframe thead th {\n",
       "        text-align: right;\n",
       "    }\n",
       "</style>\n",
       "<table border=\"1\" class=\"dataframe\">\n",
       "  <thead>\n",
       "    <tr style=\"text-align: right;\">\n",
       "      <th></th>\n",
       "      <th>alcohol</th>\n",
       "      <th>malic_acid</th>\n",
       "      <th>ash</th>\n",
       "      <th>alcalinity_of_ash</th>\n",
       "      <th>magnesium</th>\n",
       "      <th>total_phenols</th>\n",
       "      <th>flavanoids</th>\n",
       "      <th>nonflavanoid_phenols</th>\n",
       "      <th>proanthocyanins</th>\n",
       "      <th>color_intensity</th>\n",
       "      <th>hue</th>\n",
       "      <th>od280/od315_of_diluted_wines</th>\n",
       "      <th>proline</th>\n",
       "      <th>target</th>\n",
       "    </tr>\n",
       "  </thead>\n",
       "  <tbody>\n",
       "    <tr>\n",
       "      <th>0</th>\n",
       "      <td>14.23</td>\n",
       "      <td>1.71</td>\n",
       "      <td>2.43</td>\n",
       "      <td>15.6</td>\n",
       "      <td>127.0</td>\n",
       "      <td>2.80</td>\n",
       "      <td>3.06</td>\n",
       "      <td>0.28</td>\n",
       "      <td>2.29</td>\n",
       "      <td>5.64</td>\n",
       "      <td>1.04</td>\n",
       "      <td>3.92</td>\n",
       "      <td>1065.0</td>\n",
       "      <td>0</td>\n",
       "    </tr>\n",
       "    <tr>\n",
       "      <th>1</th>\n",
       "      <td>13.20</td>\n",
       "      <td>1.78</td>\n",
       "      <td>2.14</td>\n",
       "      <td>11.2</td>\n",
       "      <td>100.0</td>\n",
       "      <td>2.65</td>\n",
       "      <td>2.76</td>\n",
       "      <td>0.26</td>\n",
       "      <td>1.28</td>\n",
       "      <td>4.38</td>\n",
       "      <td>1.05</td>\n",
       "      <td>3.40</td>\n",
       "      <td>1050.0</td>\n",
       "      <td>0</td>\n",
       "    </tr>\n",
       "    <tr>\n",
       "      <th>2</th>\n",
       "      <td>13.16</td>\n",
       "      <td>2.36</td>\n",
       "      <td>2.67</td>\n",
       "      <td>18.6</td>\n",
       "      <td>101.0</td>\n",
       "      <td>2.80</td>\n",
       "      <td>3.24</td>\n",
       "      <td>0.30</td>\n",
       "      <td>2.81</td>\n",
       "      <td>5.68</td>\n",
       "      <td>1.03</td>\n",
       "      <td>3.17</td>\n",
       "      <td>1185.0</td>\n",
       "      <td>0</td>\n",
       "    </tr>\n",
       "    <tr>\n",
       "      <th>3</th>\n",
       "      <td>14.37</td>\n",
       "      <td>1.95</td>\n",
       "      <td>2.50</td>\n",
       "      <td>16.8</td>\n",
       "      <td>113.0</td>\n",
       "      <td>3.85</td>\n",
       "      <td>3.49</td>\n",
       "      <td>0.24</td>\n",
       "      <td>2.18</td>\n",
       "      <td>7.80</td>\n",
       "      <td>0.86</td>\n",
       "      <td>3.45</td>\n",
       "      <td>1480.0</td>\n",
       "      <td>0</td>\n",
       "    </tr>\n",
       "    <tr>\n",
       "      <th>4</th>\n",
       "      <td>13.24</td>\n",
       "      <td>2.59</td>\n",
       "      <td>2.87</td>\n",
       "      <td>21.0</td>\n",
       "      <td>118.0</td>\n",
       "      <td>2.80</td>\n",
       "      <td>2.69</td>\n",
       "      <td>0.39</td>\n",
       "      <td>1.82</td>\n",
       "      <td>4.32</td>\n",
       "      <td>1.04</td>\n",
       "      <td>2.93</td>\n",
       "      <td>735.0</td>\n",
       "      <td>0</td>\n",
       "    </tr>\n",
       "  </tbody>\n",
       "</table>\n",
       "</div>"
      ],
      "text/plain": [
       "   alcohol  malic_acid   ash  alcalinity_of_ash  magnesium  total_phenols  \\\n",
       "0    14.23        1.71  2.43               15.6      127.0           2.80   \n",
       "1    13.20        1.78  2.14               11.2      100.0           2.65   \n",
       "2    13.16        2.36  2.67               18.6      101.0           2.80   \n",
       "3    14.37        1.95  2.50               16.8      113.0           3.85   \n",
       "4    13.24        2.59  2.87               21.0      118.0           2.80   \n",
       "\n",
       "   flavanoids  nonflavanoid_phenols  proanthocyanins  color_intensity   hue  \\\n",
       "0        3.06                  0.28             2.29             5.64  1.04   \n",
       "1        2.76                  0.26             1.28             4.38  1.05   \n",
       "2        3.24                  0.30             2.81             5.68  1.03   \n",
       "3        3.49                  0.24             2.18             7.80  0.86   \n",
       "4        2.69                  0.39             1.82             4.32  1.04   \n",
       "\n",
       "   od280/od315_of_diluted_wines  proline  target  \n",
       "0                          3.92   1065.0       0  \n",
       "1                          3.40   1050.0       0  \n",
       "2                          3.17   1185.0       0  \n",
       "3                          3.45   1480.0       0  \n",
       "4                          2.93    735.0       0  "
      ]
     },
     "execution_count": 2,
     "metadata": {},
     "output_type": "execute_result"
    }
   ],
   "source": [
    "def sklearn_to_df(sklearn_dataset):\n",
    "    df = pd.DataFrame(sklearn_dataset.data, columns=sklearn_dataset.feature_names)\n",
    "    df['target'] = pd.Series(sklearn_dataset.target)\n",
    "    return df\n",
    "wine = load_wine()\n",
    "df_wine = sklearn_to_df(wine)\n",
    "df_wine.head()"
   ]
  },
  {
   "cell_type": "code",
   "execution_count": 3,
   "metadata": {},
   "outputs": [
    {
     "data": {
      "text/plain": [
       "Index(['alcohol', 'malic_acid', 'ash', 'alcalinity_of_ash', 'magnesium',\n",
       "       'total_phenols', 'flavanoids', 'nonflavanoid_phenols',\n",
       "       'proanthocyanins', 'color_intensity', 'hue',\n",
       "       'od280/od315_of_diluted_wines', 'proline', 'target'],\n",
       "      dtype='object')"
      ]
     },
     "execution_count": 3,
     "metadata": {},
     "output_type": "execute_result"
    }
   ],
   "source": [
    "df_wine.columns"
   ]
  },
  {
   "cell_type": "code",
   "execution_count": 4,
   "metadata": {},
   "outputs": [
    {
     "data": {
      "text/plain": [
       "(178, 14)"
      ]
     },
     "execution_count": 4,
     "metadata": {},
     "output_type": "execute_result"
    }
   ],
   "source": [
    "df_wine.shape"
   ]
  },
  {
   "cell_type": "code",
   "execution_count": 5,
   "metadata": {},
   "outputs": [],
   "source": [
    "X = df_wine.iloc[:, :-1].values\n",
    "y = df_wine.iloc[:, -1].values"
   ]
  },
  {
   "cell_type": "code",
   "execution_count": 6,
   "metadata": {},
   "outputs": [],
   "source": [
    "y = y.astype('int')"
   ]
  },
  {
   "cell_type": "markdown",
   "metadata": {},
   "source": [
    "The `KFold` function in scikit-learn is used to split a dataset into k folds for cross-validation. It takes several parameters that control the behavior of the cross-validation process. Here are the parameters of the `KFold` function:\n",
    "\n",
    "- `n_splits`: The number of folds to create. This parameter is required. Default value is 5.\n",
    "- `shuffle`: Whether to shuffle the data before splitting it into folds. The default value is `False`.\n",
    "- `random_state`: The random seed to use for shuffling the data. This parameter is ignored if `shuffle` is `False`."
   ]
  },
  {
   "cell_type": "code",
   "execution_count": 7,
   "metadata": {},
   "outputs": [
    {
     "data": {
      "text/plain": [
       "5"
      ]
     },
     "execution_count": 7,
     "metadata": {},
     "output_type": "execute_result"
    }
   ],
   "source": [
    "kf = KFold(n_splits=5, shuffle=True, random_state=0)\n",
    "kf.get_n_splits(X)"
   ]
  },
  {
   "cell_type": "markdown",
   "metadata": {},
   "source": [
    "This creates a `KFold` object that will split the data into 5 folds, shuffle the data before splitting it, and use a random seed of 0 for shuffling the data. The resulting `kf` object can be used to iterate over the folds of the data for cross-validation."
   ]
  },
  {
   "cell_type": "code",
   "execution_count": 8,
   "metadata": {},
   "outputs": [
    {
     "name": "stdout",
     "output_type": "stream",
     "text": [
      "Fold 1:\n",
      "  Train: index=[  0   1   2   3   6   9  10  11  12  13  14  15  16  17  19  20  21  22\n",
      "  23  24  25  27  28  29  30  31  32  34  35  36  38  39  40  41  42  43\n",
      "  46  47  48  49  50  52  53  57  58  59  62  64  65  67  68  69  70  71\n",
      "  72  73  74  75  76  77  78  79  81  82  83  84  85  87  88  89  91  92\n",
      "  93  94  95  96  97  99 100 101 102 103 105 107 108 109 110 113 114 115\n",
      " 116 117 118 119 120 122 124 125 127 128 130 131 132 133 134 135 136 137\n",
      " 138 139 140 142 143 144 145 147 148 149 150 152 153 154 155 156 157 158\n",
      " 159 161 162 163 165 166 167 169 170 171 172 173 174 175 176 177]\n",
      "  Test:  index=[  4   5   7   8  18  26  33  37  44  45  51  54  55  56  60  61  63  66\n",
      "  80  86  90  98 104 106 111 112 121 123 126 129 141 146 151 160 164 168]\n",
      "Fold 2:\n",
      "  Train: index=[  0   1   3   4   5   6   7   8   9  10  11  12  13  14  15  17  18  20\n",
      "  21  23  25  26  28  29  31  32  33  34  35  36  37  38  39  41  42  43\n",
      "  44  45  46  47  48  49  50  51  52  53  54  55  56  57  58  60  61  63\n",
      "  64  65  66  67  68  69  70  72  73  75  76  77  78  79  80  81  82  84\n",
      "  85  86  87  88  89  90  91  98  99 100 102 103 104 105 106 107 109 110\n",
      " 111 112 114 115 116 117 119 120 121 122 123 124 125 126 127 128 129 130\n",
      " 132 133 136 137 139 140 141 142 143 146 147 148 149 150 151 152 153 154\n",
      " 155 157 159 160 164 165 166 167 168 169 170 171 172 173 176 177]\n",
      "  Test:  index=[  2  16  19  22  24  27  30  40  59  62  71  74  83  92  93  94  95  96\n",
      "  97 101 108 113 118 131 134 135 138 144 145 156 158 161 162 163 174 175]\n",
      "Fold 3:\n",
      "  Train: index=[  0   1   2   4   5   7   8   9  11  12  14  16  17  18  19  21  22  24\n",
      "  25  26  27  28  29  30  31  32  33  34  35  36  37  38  39  40  41  42\n",
      "  44  45  46  47  51  53  54  55  56  57  58  59  60  61  62  63  65  66\n",
      "  67  70  71  72  74  75  77  79  80  81  82  83  84  86  87  88  90  91\n",
      "  92  93  94  95  96  97  98  99 101 102 103 104 105 106 108 111 112 113\n",
      " 114 115 117 118 119 120 121 123 126 127 128 129 130 131 132 133 134 135\n",
      " 137 138 139 140 141 142 143 144 145 146 147 148 149 150 151 152 153 154\n",
      " 156 157 158 160 161 162 163 164 167 168 169 172 173 174 175 177]\n",
      "  Test:  index=[  3   6  10  13  15  20  23  43  48  49  50  52  64  68  69  73  76  78\n",
      "  85  89 100 107 109 110 116 122 124 125 136 155 159 165 166 170 171 176]\n",
      "Fold 4:\n",
      "  Train: index=[  2   3   4   5   6   7   8   9  10  13  15  16  18  19  20  21  22  23\n",
      "  24  25  26  27  29  30  31  32  33  36  37  39  40  43  44  45  47  48\n",
      "  49  50  51  52  54  55  56  58  59  60  61  62  63  64  66  67  68  69\n",
      "  70  71  72  73  74  76  77  78  79  80  81  82  83  85  86  87  88  89\n",
      "  90  92  93  94  95  96  97  98  99 100 101 103 104 106 107 108 109 110\n",
      " 111 112 113 115 116 117 118 121 122 123 124 125 126 127 129 131 134 135\n",
      " 136 138 140 141 142 144 145 146 147 148 149 150 151 155 156 157 158 159\n",
      " 160 161 162 163 164 165 166 167 168 169 170 171 172 174 175 176 177]\n",
      "  Test:  index=[  0   1  11  12  14  17  28  34  35  38  41  42  46  53  57  65  75  84\n",
      "  91 102 105 114 119 120 128 130 132 133 137 139 143 152 153 154 173]\n",
      "Fold 5:\n",
      "  Train: index=[  0   1   2   3   4   5   6   7   8  10  11  12  13  14  15  16  17  18\n",
      "  19  20  22  23  24  26  27  28  30  33  34  35  37  38  40  41  42  43\n",
      "  44  45  46  48  49  50  51  52  53  54  55  56  57  59  60  61  62  63\n",
      "  64  65  66  68  69  71  73  74  75  76  78  80  83  84  85  86  89  90\n",
      "  91  92  93  94  95  96  97  98 100 101 102 104 105 106 107 108 109 110\n",
      " 111 112 113 114 116 118 119 120 121 122 123 124 125 126 128 129 130 131\n",
      " 132 133 134 135 136 137 138 139 141 143 144 145 146 151 152 153 154 155\n",
      " 156 158 159 160 161 162 163 164 165 166 168 170 171 173 174 175 176]\n",
      "  Test:  index=[  9  21  25  29  31  32  36  39  47  58  67  70  72  77  79  81  82  87\n",
      "  88  99 103 115 117 127 140 142 147 148 149 150 157 167 169 172 177]\n"
     ]
    }
   ],
   "source": [
    "for i, (train_index, test_index) in enumerate(kf.split(X)):\n",
    "    print(f\"Fold {i+1}:\")\n",
    "    print(f\"  Train: index={train_index}\")\n",
    "    print(f\"  Test:  index={test_index}\")"
   ]
  },
  {
   "cell_type": "code",
   "execution_count": 9,
   "metadata": {},
   "outputs": [
    {
     "data": {
      "text/plain": [
       "array([1.        , 0.97222222, 0.97222222, 1.        , 1.        ])"
      ]
     },
     "execution_count": 9,
     "metadata": {},
     "output_type": "execute_result"
    }
   ],
   "source": [
    "scores = cross_val_score(RandomForestClassifier(n_estimators=20), X, y, scoring='accuracy', cv=kf)\n",
    "scores"
   ]
  },
  {
   "cell_type": "code",
   "execution_count": 10,
   "metadata": {},
   "outputs": [
    {
     "name": "stdout",
     "output_type": "stream",
     "text": [
      "0.988889 accuracy with a standard deviation of 0.013608\n"
     ]
    }
   ],
   "source": [
    "print(\"%f accuracy with a standard deviation of %f\" % (scores.mean(), scores.std()))"
   ]
  }
 ],
 "metadata": {
  "kernelspec": {
   "display_name": "Python 3.9.13 64-bit",
   "language": "python",
   "name": "python3"
  },
  "language_info": {
   "codemirror_mode": {
    "name": "ipython",
    "version": 3
   },
   "file_extension": ".py",
   "mimetype": "text/x-python",
   "name": "python",
   "nbconvert_exporter": "python",
   "pygments_lexer": "ipython3",
   "version": "3.11.4"
  },
  "orig_nbformat": 4,
  "vscode": {
   "interpreter": {
    "hash": "aee8b7b246df8f9039afb4144a1f6fd8d2ca17a180786b69acc140d282b71a49"
   }
  }
 },
 "nbformat": 4,
 "nbformat_minor": 2
}
