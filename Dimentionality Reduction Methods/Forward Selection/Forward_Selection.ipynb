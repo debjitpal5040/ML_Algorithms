{
 "cells": [
  {
   "cell_type": "code",
   "execution_count": 10,
   "metadata": {},
   "outputs": [],
   "source": [
    "import numpy as np\n",
    "import pandas as pd\n",
    "from sklearn.datasets import load_iris, load_diabetes\n",
    "from sklearn.feature_selection import f_classif, f_regression\n",
    "from sklearn.feature_selection import SelectKBest"
   ]
  },
  {
   "cell_type": "markdown",
   "metadata": {},
   "source": [
    "Regression"
   ]
  },
  {
   "cell_type": "code",
   "execution_count": 11,
   "metadata": {},
   "outputs": [
    {
     "name": "stdout",
     "output_type": "stream",
     "text": [
      "Feature data dimension:  (442, 10)\n",
      "\n",
      "Data with initial features\n",
      "        age       sex       bmi        bp        s1        s2        s3  \\\n",
      "0  0.038076  0.050680  0.061696  0.021872 -0.044223 -0.034821 -0.043401   \n",
      "1 -0.001882 -0.044642 -0.051474 -0.026328 -0.008449 -0.019163  0.074412   \n",
      "2  0.085299  0.050680  0.044451 -0.005671 -0.045599 -0.034194 -0.032356   \n",
      "3 -0.089063 -0.044642 -0.011595 -0.036656  0.012191  0.024991 -0.036038   \n",
      "4  0.005383 -0.044642 -0.036385  0.021872  0.003935  0.015596  0.008142   \n",
      "\n",
      "         s4        s5        s6  \n",
      "0 -0.002592  0.019908 -0.017646  \n",
      "1 -0.039493 -0.068330 -0.092204  \n",
      "2 -0.002592  0.002864 -0.025930  \n",
      "3  0.034309  0.022692 -0.009362  \n",
      "4 -0.002592 -0.031991 -0.046641  \n",
      "\n",
      "After selecting best 5 features: (442, 5)\n",
      "\n",
      "Data with selected features\n",
      "          0         1         2         3         4\n",
      "0  0.061696  0.021872 -0.043401 -0.002592  0.019908\n",
      "1 -0.051474 -0.026328  0.074412 -0.039493 -0.068330\n",
      "2  0.044451 -0.005671 -0.032356 -0.002592  0.002864\n",
      "3 -0.011595 -0.036656 -0.036038  0.034309  0.022692\n",
      "4 -0.036385  0.021872  0.008142 -0.002592 -0.031991\n",
      "\n",
      "All features : ['age' 'sex' 'bmi' 'bp' 's1' 's2' 's3' 's4' 's5' 's6']\n",
      "\n",
      "Selected best 5 features : ['bmi' 'bp' 's3' 's4' 's5']\n"
     ]
    }
   ],
   "source": [
    "diabetes = load_diabetes()\n",
    "X = diabetes.data\n",
    "y = diabetes.target\n",
    "print(\"Feature data dimension: \", X.shape)\n",
    "print()\n",
    "print('Data with initial features')\n",
    "print(pd.DataFrame(X, columns=diabetes.feature_names).head())\n",
    "X_selected = SelectKBest(f_regression, k=5)\n",
    "z = X_selected.fit_transform(X, y)\n",
    "print()\n",
    "print(\"After selecting best 5 features:\", z.shape)\n",
    "print()\n",
    "print('Data with selected features')\n",
    "print(pd.DataFrame(z).head())\n",
    "filter = X_selected.get_support()\n",
    "features = np.array(diabetes.feature_names)\n",
    "print()\n",
    "print(\"All features :\",features)\n",
    "print()\n",
    "print(\"Selected best 5 features :\",features[filter])"
   ]
  },
  {
   "cell_type": "markdown",
   "metadata": {},
   "source": [
    "Classification"
   ]
  },
  {
   "cell_type": "code",
   "execution_count": 12,
   "metadata": {},
   "outputs": [
    {
     "name": "stdout",
     "output_type": "stream",
     "text": [
      "Feature data dimension:  (150, 4)\n",
      "\n",
      "Data with initial features\n",
      "   sepal length (cm)  sepal width (cm)  petal length (cm)  petal width (cm)\n",
      "0                5.1               3.5                1.4               0.2\n",
      "1                4.9               3.0                1.4               0.2\n",
      "2                4.7               3.2                1.3               0.2\n",
      "3                4.6               3.1                1.5               0.2\n",
      "4                5.0               3.6                1.4               0.2\n",
      "\n",
      "After selecting best 2 features: (150, 2)\n",
      "\n",
      "Data with selected features\n",
      "     0    1\n",
      "0  1.4  0.2\n",
      "1  1.4  0.2\n",
      "2  1.3  0.2\n",
      "3  1.5  0.2\n",
      "4  1.4  0.2\n",
      "\n",
      "All features : ['sepal length (cm)' 'sepal width (cm)' 'petal length (cm)'\n",
      " 'petal width (cm)']\n",
      "\n",
      "Selected best 2 features : ['petal length (cm)' 'petal width (cm)']\n"
     ]
    }
   ],
   "source": [
    "iris = load_iris()\n",
    "X = iris.data\n",
    "y = iris.target\n",
    "print(\"Feature data dimension: \", X.shape)\n",
    "print()\n",
    "print('Data with initial features')\n",
    "print(pd.DataFrame(X, columns=iris.feature_names).head())\n",
    "X_selected = SelectKBest(f_classif, k=2)\n",
    "z=X_selected.fit_transform(X, y)\n",
    "print()\n",
    "print(\"After selecting best 2 features:\", z.shape)\n",
    "print()\n",
    "print('Data with selected features')\n",
    "print(pd.DataFrame(z).head())\n",
    "filter = X_selected.get_support()\n",
    "features = np.array(iris.feature_names)\n",
    "print()\n",
    "print(\"All features :\",features)\n",
    "print()\n",
    "print(\"Selected best 2 features :\",features[filter])"
   ]
  }
 ],
 "metadata": {
  "kernelspec": {
   "display_name": "Python 3.9.13 64-bit",
   "language": "python",
   "name": "python3"
  },
  "language_info": {
   "codemirror_mode": {
    "name": "ipython",
    "version": 3
   },
   "file_extension": ".py",
   "mimetype": "text/x-python",
   "name": "python",
   "nbconvert_exporter": "python",
   "pygments_lexer": "ipython3",
   "version": "3.9.13"
  },
  "orig_nbformat": 4,
  "vscode": {
   "interpreter": {
    "hash": "aee8b7b246df8f9039afb4144a1f6fd8d2ca17a180786b69acc140d282b71a49"
   }
  }
 },
 "nbformat": 4,
 "nbformat_minor": 2
}
