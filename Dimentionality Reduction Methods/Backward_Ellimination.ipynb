{
  "cells": [
    {
      "cell_type": "markdown",
      "metadata": {},
      "source": [
        "# Backward Ellimination\n"
      ]
    },
    {
      "cell_type": "code",
      "execution_count": 1,
      "metadata": {
        "id": "Nytfz00vtuiC"
      },
      "outputs": [],
      "source": [
        "import numpy as np\n",
        "import pandas as pd\n",
        "from sklearn.datasets import load_diabetes, load_iris\n",
        "from sklearn.feature_selection import RFE\n",
        "from sklearn.linear_model import LinearRegression, LogisticRegression"
      ]
    },
    {
      "cell_type": "markdown",
      "metadata": {
        "id": "isAEIVnftuiG"
      },
      "source": [
        "Classification\n"
      ]
    },
    {
      "cell_type": "code",
      "execution_count": 2,
      "metadata": {
        "colab": {
          "base_uri": "https://localhost:8080/"
        },
        "id": "vRj_87CptuiH",
        "outputId": "5eaa800b-d68e-4a18-f249-0da11f88de2f"
      },
      "outputs": [
        {
          "name": "stdout",
          "output_type": "stream",
          "text": [
            "Feature data dimension:  (150, 4)\n",
            "\n",
            "Data with initial features\n",
            "   sepal length (cm)  sepal width (cm)  petal length (cm)  petal width (cm)\n",
            "0                5.1               3.5                1.4               0.2\n",
            "1                4.9               3.0                1.4               0.2\n",
            "2                4.7               3.2                1.3               0.2\n",
            "3                4.6               3.1                1.5               0.2\n",
            "4                5.0               3.6                1.4               0.2\n",
            "\n",
            "After selecting best 2 features: (150, 2)\n",
            "\n",
            "Data with selected features\n",
            "     0    1\n",
            "0  1.4  0.2\n",
            "1  1.4  0.2\n",
            "2  1.3  0.2\n",
            "3  1.5  0.2\n",
            "4  1.4  0.2\n",
            "\n",
            "\n",
            "All features : ['sepal length (cm)' 'sepal width (cm)' 'petal length (cm)'\n",
            " 'petal width (cm)']\n",
            "\n",
            "Selected best 2 features : ['petal length (cm)' 'petal width (cm)']\n"
          ]
        }
      ],
      "source": [
        "iris = load_iris()\n",
        "X = iris.data  # type: ignore\n",
        "y = iris.target  # type: ignore\n",
        "print(\"Feature data dimension: \", X.shape)\n",
        "print()\n",
        "print(\"Data with initial features\")\n",
        "print(pd.DataFrame(X, columns=iris.feature_names).head())  # type: ignore\n",
        "print()\n",
        "estimator = LogisticRegression(max_iter=150)\n",
        "selector = RFE(estimator, n_features_to_select=2)\n",
        "X_selected = selector.fit_transform(X, y)\n",
        "print(\"After selecting best 2 features:\", X_selected.shape)\n",
        "print()\n",
        "print(\"Data with selected features\")\n",
        "print(pd.DataFrame(X_selected).head())\n",
        "print()\n",
        "filter = selector.get_support()\n",
        "features = np.array(iris.feature_names)  # type: ignore\n",
        "print()\n",
        "print(\"All features :\", features)\n",
        "print()\n",
        "print(\"Selected best 2 features :\", features[filter])"
      ]
    },
    {
      "cell_type": "markdown",
      "metadata": {
        "id": "s93ENvxJtuiI"
      },
      "source": [
        "Regression\n"
      ]
    },
    {
      "cell_type": "code",
      "execution_count": 3,
      "metadata": {
        "colab": {
          "base_uri": "https://localhost:8080/"
        },
        "id": "1Dzp4jmrtuiI",
        "outputId": "66703c6c-6402-47e2-ec29-e1911db62cf3"
      },
      "outputs": [
        {
          "name": "stdout",
          "output_type": "stream",
          "text": [
            "Feature data dimension:  (442, 10)\n",
            "\n",
            "Data with initial features\n",
            "        age       sex       bmi        bp        s1        s2        s3  \\\n",
            "0  0.038076  0.050680  0.061696  0.021872 -0.044223 -0.034821 -0.043401   \n",
            "1 -0.001882 -0.044642 -0.051474 -0.026328 -0.008449 -0.019163  0.074412   \n",
            "2  0.085299  0.050680  0.044451 -0.005670 -0.045599 -0.034194 -0.032356   \n",
            "3 -0.089063 -0.044642 -0.011595 -0.036656  0.012191  0.024991 -0.036038   \n",
            "4  0.005383 -0.044642 -0.036385  0.021872  0.003935  0.015596  0.008142   \n",
            "\n",
            "         s4        s5        s6  \n",
            "0 -0.002592  0.019907 -0.017646  \n",
            "1 -0.039493 -0.068332 -0.092204  \n",
            "2 -0.002592  0.002861 -0.025930  \n",
            "3  0.034309  0.022688 -0.009362  \n",
            "4 -0.002592 -0.031988 -0.046641  \n",
            "\n",
            "After selecting best 2 features: (442, 5)\n",
            "\n",
            "Data with selected features\n",
            "          0         1         2         3         4\n",
            "0  0.061696  0.021872 -0.044223 -0.034821  0.019907\n",
            "1 -0.051474 -0.026328 -0.008449 -0.019163 -0.068332\n",
            "2  0.044451 -0.005670 -0.045599 -0.034194  0.002861\n",
            "3 -0.011595 -0.036656  0.012191  0.024991  0.022688\n",
            "4 -0.036385  0.021872  0.003935  0.015596 -0.031988\n",
            "\n",
            "\n",
            "All features : ['age' 'sex' 'bmi' 'bp' 's1' 's2' 's3' 's4' 's5' 's6']\n",
            "\n",
            "Selected best 5 features : ['bmi' 'bp' 's1' 's2' 's5']\n"
          ]
        }
      ],
      "source": [
        "diabetes = load_diabetes()\n",
        "X = diabetes.data  # type: ignore\n",
        "y = diabetes.target  # type: ignore\n",
        "print(\"Feature data dimension: \", X.shape)\n",
        "print()\n",
        "print(\"Data with initial features\")\n",
        "print(pd.DataFrame(X, columns=diabetes.feature_names).head())  # type: ignore\n",
        "print()\n",
        "estimator = LinearRegression()\n",
        "selector = RFE(estimator, n_features_to_select=5)\n",
        "X_selected = selector.fit_transform(X, y)\n",
        "print(\"After selecting best 2 features:\", X_selected.shape)\n",
        "print()\n",
        "print(\"Data with selected features\")\n",
        "print(pd.DataFrame(X_selected).head())\n",
        "print()\n",
        "filter = selector.get_support()\n",
        "features = np.array(diabetes.feature_names)  # type: ignore\n",
        "print()\n",
        "print(\"All features :\", features)\n",
        "print()\n",
        "print(\"Selected best 5 features :\", features[filter])"
      ]
    }
  ],
  "metadata": {
    "colab": {
      "name": "Backward_Ellimination.ipynb",
      "provenance": []
    },
    "interpreter": {
      "hash": "2aea699d1910e3d0aed8da251146362b8928d88784ae1d1bf986b1135b61603c"
    },
    "kernelspec": {
      "display_name": "Python 3.8.13 ('jlab_server')",
      "language": "python",
      "name": "python3"
    },
    "language_info": {
      "codemirror_mode": {
        "name": "ipython",
        "version": 3
      },
      "file_extension": ".py",
      "mimetype": "text/x-python",
      "name": "python",
      "nbconvert_exporter": "python",
      "pygments_lexer": "ipython3",
      "version": "3.12.1"
    },
    "orig_nbformat": 4
  },
  "nbformat": 4,
  "nbformat_minor": 0
}
