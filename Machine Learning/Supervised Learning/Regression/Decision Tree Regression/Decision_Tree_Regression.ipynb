{
  "nbformat": 4,
  "nbformat_minor": 0,
  "metadata": {
    "interpreter": {
      "hash": "aee8b7b246df8f9039afb4144a1f6fd8d2ca17a180786b69acc140d282b71a49"
    },
    "kernelspec": {
      "display_name": "Python 3.9.5 64-bit",
      "name": "python3"
    },
    "language_info": {
      "name": "python",
      "version": ""
    },
    "orig_nbformat": 4,
    "colab": {
      "name": "Decision Tree Regression.ipynb",
      "provenance": [],
      "collapsed_sections": []
    }
  },
  "cells": [
    {
      "cell_type": "markdown",
      "metadata": {
        "id": "hD8f_QY1TbcV"
      },
      "source": [
        "# Decision Tree Regression"
      ]
    },
    {
      "cell_type": "markdown",
      "metadata": {
        "id": "DE18Og71Tgc8"
      },
      "source": [
        "## Importing the necessary Libraries and Packages"
      ]
    },
    {
      "cell_type": "code",
      "metadata": {
        "id": "QXC5XgfssZ2s"
      },
      "source": [
        "from sklearn.model_selection import train_test_split # splitting the dataset\n",
        "from sklearn.preprocessing import StandardScaler # data preprocessing\n",
        "from sklearn.tree import DecisionTreeRegressor\n",
        "from sklearn.metrics import r2_score, mean_absolute_error, mean_squared_error, mean_squared_error # accuracy metric\n",
        "import numpy as np # data processing\n",
        "import pandas as pd # data processing \n",
        "import matplotlib.pyplot as plt # data plotting\n",
        "import seaborn as sb # data plotting"
      ],
      "execution_count": 1,
      "outputs": []
    },
    {
      "cell_type": "markdown",
      "metadata": {
        "id": "XvIyHtgrTorM"
      },
      "source": [
        "## Importing the csv file as a DataFrame"
      ]
    },
    {
      "cell_type": "code",
      "metadata": {
        "colab": {
          "base_uri": "https://localhost:8080/",
          "height": 204
        },
        "id": "0EIFVdAfseKT",
        "outputId": "c5b126a9-7241-44dd-8f38-ab83009844f9"
      },
      "source": [
        "df = pd.read_csv(\"Brain-Body.csv\")\n",
        "df.head()"
      ],
      "execution_count": 2,
      "outputs": [
        {
          "output_type": "execute_result",
          "data": {
            "text/html": [
              "<div>\n",
              "<style scoped>\n",
              "    .dataframe tbody tr th:only-of-type {\n",
              "        vertical-align: middle;\n",
              "    }\n",
              "\n",
              "    .dataframe tbody tr th {\n",
              "        vertical-align: top;\n",
              "    }\n",
              "\n",
              "    .dataframe thead th {\n",
              "        text-align: right;\n",
              "    }\n",
              "</style>\n",
              "<table border=\"1\" class=\"dataframe\">\n",
              "  <thead>\n",
              "    <tr style=\"text-align: right;\">\n",
              "      <th></th>\n",
              "      <th>Brain Weight</th>\n",
              "      <th>Body Weight</th>\n",
              "    </tr>\n",
              "  </thead>\n",
              "  <tbody>\n",
              "    <tr>\n",
              "      <th>0</th>\n",
              "      <td>3.385</td>\n",
              "      <td>44.5</td>\n",
              "    </tr>\n",
              "    <tr>\n",
              "      <th>1</th>\n",
              "      <td>0.480</td>\n",
              "      <td>15.5</td>\n",
              "    </tr>\n",
              "    <tr>\n",
              "      <th>2</th>\n",
              "      <td>1.350</td>\n",
              "      <td>8.1</td>\n",
              "    </tr>\n",
              "    <tr>\n",
              "      <th>3</th>\n",
              "      <td>1.040</td>\n",
              "      <td>5.5</td>\n",
              "    </tr>\n",
              "    <tr>\n",
              "      <th>4</th>\n",
              "      <td>4.190</td>\n",
              "      <td>58.0</td>\n",
              "    </tr>\n",
              "  </tbody>\n",
              "</table>\n",
              "</div>"
            ],
            "text/plain": [
              "   Brain Weight  Body Weight\n",
              "0         3.385         44.5\n",
              "1         0.480         15.5\n",
              "2         1.350          8.1\n",
              "3         1.040          5.5\n",
              "4         4.190         58.0"
            ]
          },
          "metadata": {},
          "execution_count": 2
        }
      ]
    },
    {
      "cell_type": "markdown",
      "metadata": {
        "id": "Sj-O73gPTvx8"
      },
      "source": [
        "## Now taking 2 parts from the dataset\n",
        "### X: which contains only the <b>Brain Weight</b> column<br>Y: which contains only the <b>Body Weight</b> column "
      ]
    },
    {
      "cell_type": "code",
      "metadata": {
        "colab": {
          "base_uri": "https://localhost:8080/"
        },
        "id": "ZE37je1qsxeO",
        "outputId": "fcacad00-c70d-4f76-a563-b31f6d32bf05"
      },
      "source": [
        "X = df.loc[:,[\"Brain Weight\"]]\n",
        "y = df.loc[:,[\"Body Weight\"]]\n",
        "print(\"//Independent features//\")\n",
        "print(X.head())\n",
        "print(\"\\n\\n//Dependent feature//\")\n",
        "print(y.head())"
      ],
      "execution_count": 3,
      "outputs": [
        {
          "output_type": "stream",
          "text": [
            "//Independent features//\n",
            "   Brain Weight\n",
            "0         3.385\n",
            "1         0.480\n",
            "2         1.350\n",
            "3         1.040\n",
            "4         4.190\n",
            "\n",
            "\n",
            "//Dependent feature//\n",
            "   Body Weight\n",
            "0         44.5\n",
            "1         15.5\n",
            "2          8.1\n",
            "3          5.5\n",
            "4         58.0\n"
          ],
          "name": "stdout"
        }
      ]
    },
    {
      "cell_type": "markdown",
      "metadata": {
        "id": "J_vMg4oCT1Qz"
      },
      "source": [
        "## Split the <b>X</b> and <b>y</b> Dataframes for Test and Training"
      ]
    },
    {
      "cell_type": "code",
      "metadata": {
        "id": "EaU0YQ1Vs0Fe"
      },
      "source": [
        "X_train,X_test,y_train,y_test=train_test_split(X,y,test_size=0.4,random_state=42)"
      ],
      "execution_count": 4,
      "outputs": []
    },
    {
      "cell_type": "markdown",
      "metadata": {
        "id": "dTpoD4QoT4Bb"
      },
      "source": [
        "## Scaling the Dataset"
      ]
    },
    {
      "cell_type": "code",
      "metadata": {
        "id": "rz3obr5ItGrr"
      },
      "source": [
        "scaler=StandardScaler()\n",
        "X_train=scaler.fit_transform(X_train)\n",
        "X_test=scaler.transform(X_test)"
      ],
      "execution_count": 5,
      "outputs": []
    },
    {
      "cell_type": "markdown",
      "metadata": {
        "id": "j-_sClAiT9Zk"
      },
      "source": [
        "## Implementation of the Model"
      ]
    },
    {
      "cell_type": "code",
      "metadata": {
        "id": "h0ESXdoYs2j5"
      },
      "source": [
        "reg=DecisionTreeRegressor()\n",
        "reg.fit(X_train,y_train)\n",
        "y_pred = reg.predict(X_test)"
      ],
      "execution_count": 6,
      "outputs": []
    },
    {
      "cell_type": "markdown",
      "metadata": {
        "id": "crrOOwL3UGRu"
      },
      "source": [
        "## Performance of the Model"
      ]
    },
    {
      "cell_type": "code",
      "metadata": {
        "id": "PYCOjiAuUDY6",
        "colab": {
          "base_uri": "https://localhost:8080/"
        },
        "outputId": "36659e34-d7ae-45e7-be54-ba2d526ef6f7"
      },
      "source": [
        "# printing the coefficient of determination of the regression\n",
        "print(\"The coefficient of determination :\", r2_score(y_test,y_pred))"
      ],
      "execution_count": 7,
      "outputs": [
        {
          "output_type": "stream",
          "text": [
            "The coefficient of determination : 0.6563831441445425\n"
          ],
          "name": "stdout"
        }
      ]
    },
    {
      "cell_type": "markdown",
      "metadata": {
        "id": "w-AohCn2UKu7"
      },
      "source": [
        "## Plotting the Regression"
      ]
    },
    {
      "cell_type": "code",
      "metadata": {
        "colab": {
          "base_uri": "https://localhost:8080/",
          "height": 628
        },
        "id": "xWla2pfis97a",
        "outputId": "eb84c5dc-e433-4443-b197-a5a3824171d1"
      },
      "source": [
        "plt.figure(figsize=(10, 10))\n",
        "sb.set_theme(color_codes=True)\n",
        "sb.regplot(x=X, y=y, data=df,ci=None,color='b',marker=\"*\")"
      ],
      "execution_count": 8,
      "outputs": [
        {
          "output_type": "execute_result",
          "data": {
            "text/plain": [
              "<matplotlib.axes._subplots.AxesSubplot at 0x7fbc0e170e10>"
            ]
          },
          "metadata": {},
          "execution_count": 8
        },
        {
          "output_type": "display_data",
          "data": {
            "image/png": "[encoded data removed]",
            "text/plain": [
              "<Figure size 720x720 with 1 Axes>"
            ]
          },
          "metadata": {
            "needs_background": "light"
          }
        }
      ]
    },
    {
      "cell_type": "markdown",
      "metadata": {
        "id": "QjJlcCrKe8PX"
      },
      "source": [
        "## Additional Performance Metrics"
      ]
    },
    {
      "cell_type": "code",
      "metadata": {
        "id": "aO4fToeHtAnr",
        "colab": {
          "base_uri": "https://localhost:8080/"
        },
        "outputId": "ea69f262-d574-4b75-b51f-9f96cb6a03d7"
      },
      "source": [
        "print('Mean Absolute Error:', mean_absolute_error(y_test, y_pred))\n",
        "print('Mean Squared Error:', mean_squared_error(y_test, y_pred))\n",
        "print('Root Mean Squared Error:', np.sqrt(mean_squared_error(y_test, y_pred)))"
      ],
      "execution_count": 9,
      "outputs": [
        {
          "output_type": "stream",
          "text": [
            "Mean Absolute Error: 5.9799999999999995\n",
            "Mean Squared Error: 66.6120625\n",
            "Root Mean Squared Error: 8.161621315645561\n"
          ],
          "name": "stdout"
        }
      ]
    }
  ]
}