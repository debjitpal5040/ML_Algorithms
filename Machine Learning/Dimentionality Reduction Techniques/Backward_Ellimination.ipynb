{
 "cells": [
  {
   "cell_type": "code",
   "execution_count": 1,
   "metadata": {},
   "outputs": [
    {
     "ename": "ModuleNotFoundError",
     "evalue": "No module named 'sklearn'",
     "output_type": "error",
     "traceback": [
      "\u001b[0;31m---------------------------------------------------------------------------\u001b[0m",
      "\u001b[0;31mModuleNotFoundError\u001b[0m                       Traceback (most recent call last)",
      "\u001b[1;32m/Users/debjitpal/Documents/GitHub/ML_Algorithms/Machine Learning/Dimentionality Reduction Techniques/Backward_Ellimination.ipynb Cell 1'\u001b[0m in \u001b[0;36m<cell line: 3>\u001b[0;34m()\u001b[0m\n\u001b[1;32m      <a href='vscode-notebook-cell:/Users/debjitpal/Documents/GitHub/ML_Algorithms/Machine%20Learning/Dimentionality%20Reduction%20Techniques/Backward_Ellimination.ipynb#ch0000000?line=0'>1</a>\u001b[0m \u001b[39mimport\u001b[39;00m \u001b[39mnumpy\u001b[39;00m \u001b[39mas\u001b[39;00m \u001b[39mnp\u001b[39;00m\n\u001b[1;32m      <a href='vscode-notebook-cell:/Users/debjitpal/Documents/GitHub/ML_Algorithms/Machine%20Learning/Dimentionality%20Reduction%20Techniques/Backward_Ellimination.ipynb#ch0000000?line=1'>2</a>\u001b[0m \u001b[39mimport\u001b[39;00m \u001b[39mpandas\u001b[39;00m \u001b[39mas\u001b[39;00m \u001b[39mpd\u001b[39;00m\n\u001b[0;32m----> <a href='vscode-notebook-cell:/Users/debjitpal/Documents/GitHub/ML_Algorithms/Machine%20Learning/Dimentionality%20Reduction%20Techniques/Backward_Ellimination.ipynb#ch0000000?line=2'>3</a>\u001b[0m \u001b[39mfrom\u001b[39;00m \u001b[39msklearn\u001b[39;00m\u001b[39m.\u001b[39;00m\u001b[39mdatasets\u001b[39;00m \u001b[39mimport\u001b[39;00m load_iris, load_diabetes\n\u001b[1;32m      <a href='vscode-notebook-cell:/Users/debjitpal/Documents/GitHub/ML_Algorithms/Machine%20Learning/Dimentionality%20Reduction%20Techniques/Backward_Ellimination.ipynb#ch0000000?line=3'>4</a>\u001b[0m \u001b[39mfrom\u001b[39;00m \u001b[39msklearn\u001b[39;00m\u001b[39m.\u001b[39;00m\u001b[39mfeature_selection\u001b[39;00m \u001b[39mimport\u001b[39;00m RFE\n\u001b[1;32m      <a href='vscode-notebook-cell:/Users/debjitpal/Documents/GitHub/ML_Algorithms/Machine%20Learning/Dimentionality%20Reduction%20Techniques/Backward_Ellimination.ipynb#ch0000000?line=4'>5</a>\u001b[0m \u001b[39mfrom\u001b[39;00m \u001b[39msklearn\u001b[39;00m\u001b[39m.\u001b[39;00m\u001b[39mlinear_model\u001b[39;00m \u001b[39mimport\u001b[39;00m LogisticRegression, LinearRegression\n",
      "\u001b[0;31mModuleNotFoundError\u001b[0m: No module named 'sklearn'"
     ]
    }
   ],
   "source": [
    "import numpy as np\n",
    "import pandas as pd\n",
    "from sklearn.datasets import load_iris, load_diabetes\n",
    "from sklearn.feature_selection import RFE\n",
    "from sklearn.linear_model import LogisticRegression, LinearRegression"
   ]
  },
  {
   "cell_type": "markdown",
   "metadata": {},
   "source": [
    "Classification"
   ]
  },
  {
   "cell_type": "code",
   "execution_count": null,
   "metadata": {},
   "outputs": [
    {
     "name": "stdout",
     "output_type": "stream",
     "text": [
      "Feature data dimension:  (150, 4)\n",
      "\n",
      "Data with initial features\n",
      "   sepal length (cm)  sepal width (cm)  petal length (cm)  petal width (cm)\n",
      "0                5.1               3.5                1.4               0.2\n",
      "1                4.9               3.0                1.4               0.2\n",
      "2                4.7               3.2                1.3               0.2\n",
      "3                4.6               3.1                1.5               0.2\n",
      "4                5.0               3.6                1.4               0.2\n",
      "\n",
      "After selecting best 2 features: (150, 2)\n",
      "\n",
      "Data with selected features\n",
      "     0    1\n",
      "0  1.4  0.2\n",
      "1  1.4  0.2\n",
      "2  1.3  0.2\n",
      "3  1.5  0.2\n",
      "4  1.4  0.2\n",
      "\n",
      "\n",
      "All features : ['sepal length (cm)' 'sepal width (cm)' 'petal length (cm)'\n",
      " 'petal width (cm)']\n",
      "\n",
      "Selected best 2 features : ['petal length (cm)' 'petal width (cm)']\n"
     ]
    }
   ],
   "source": [
    "iris = load_iris()\n",
    "X = iris.data\n",
    "y = iris.target\n",
    "print(\"Feature data dimension: \", X.shape)\n",
    "print()\n",
    "print('Data with initial features')\n",
    "print(pd.DataFrame(X, columns=iris.feature_names).head())\n",
    "print()\n",
    "estimator = LogisticRegression(max_iter=150)\n",
    "selector = RFE(estimator, n_features_to_select=2)\n",
    "X_selected = selector.fit_transform(X, y)\n",
    "print(\"After selecting best 2 features:\", X_selected.shape)\n",
    "print()\n",
    "print('Data with selected features')\n",
    "print(pd.DataFrame(X_selected).head())\n",
    "print()\n",
    "filter = selector.get_support()\n",
    "features = np.array(iris.feature_names)\n",
    "print()\n",
    "print(\"All features :\",features)\n",
    "print()\n",
    "print(\"Selected best 2 features :\",features[filter])"
   ]
  },
  {
   "cell_type": "markdown",
   "metadata": {},
   "source": [
    "Regression"
   ]
  },
  {
   "cell_type": "code",
   "execution_count": null,
   "metadata": {},
   "outputs": [
    {
     "name": "stdout",
     "output_type": "stream",
     "text": [
      "Feature data dimension:  (442, 10)\n",
      "\n",
      "Data with initial features\n",
      "        age       sex       bmi        bp        s1        s2        s3  \\\n",
      "0  0.038076  0.050680  0.061696  0.021872 -0.044223 -0.034821 -0.043401   \n",
      "1 -0.001882 -0.044642 -0.051474 -0.026328 -0.008449 -0.019163  0.074412   \n",
      "2  0.085299  0.050680  0.044451 -0.005671 -0.045599 -0.034194 -0.032356   \n",
      "3 -0.089063 -0.044642 -0.011595 -0.036656  0.012191  0.024991 -0.036038   \n",
      "4  0.005383 -0.044642 -0.036385  0.021872  0.003935  0.015596  0.008142   \n",
      "\n",
      "         s4        s5        s6  \n",
      "0 -0.002592  0.019908 -0.017646  \n",
      "1 -0.039493 -0.068330 -0.092204  \n",
      "2 -0.002592  0.002864 -0.025930  \n",
      "3  0.034309  0.022692 -0.009362  \n",
      "4 -0.002592 -0.031991 -0.046641  \n",
      "\n",
      "After selecting best 2 features: (442, 5)\n",
      "\n",
      "Data with selected features\n",
      "          0         1         2         3         4\n",
      "0  0.061696  0.021872 -0.044223 -0.034821  0.019908\n",
      "1 -0.051474 -0.026328 -0.008449 -0.019163 -0.068330\n",
      "2  0.044451 -0.005671 -0.045599 -0.034194  0.002864\n",
      "3 -0.011595 -0.036656  0.012191  0.024991  0.022692\n",
      "4 -0.036385  0.021872  0.003935  0.015596 -0.031991\n",
      "\n",
      "\n",
      "All features : ['age' 'sex' 'bmi' 'bp' 's1' 's2' 's3' 's4' 's5' 's6']\n",
      "\n",
      "Selected best 5 features : ['bmi' 'bp' 's1' 's2' 's5']\n"
     ]
    }
   ],
   "source": [
    "diabetes = load_diabetes()\n",
    "X = diabetes.data\n",
    "y = diabetes.target\n",
    "print(\"Feature data dimension: \", X.shape)\n",
    "print()\n",
    "print('Data with initial features')\n",
    "print(pd.DataFrame(X, columns=diabetes.feature_names).head())\n",
    "print()\n",
    "estimator = LinearRegression()\n",
    "selector = RFE(estimator, n_features_to_select=5)\n",
    "X_selected = selector.fit_transform(X, y)\n",
    "print(\"After selecting best 2 features:\", X_selected.shape)\n",
    "print()\n",
    "print('Data with selected features')\n",
    "print(pd.DataFrame(X_selected).head())\n",
    "print()\n",
    "filter = selector.get_support()\n",
    "features = np.array(diabetes.feature_names)\n",
    "print()\n",
    "print(\"All features :\",features)\n",
    "print()\n",
    "print(\"Selected best 5 features :\",features[filter])"
   ]
  }
 ],
 "metadata": {
  "interpreter": {
   "hash": "2aea699d1910e3d0aed8da251146362b8928d88784ae1d1bf986b1135b61603c"
  },
  "kernelspec": {
   "display_name": "Python 3.8.13 ('jlab_server')",
   "language": "python",
   "name": "python3"
  },
  "language_info": {
   "codemirror_mode": {
    "name": "ipython",
    "version": 3
   },
   "file_extension": ".py",
   "mimetype": "text/x-python",
   "name": "python",
   "nbconvert_exporter": "python",
   "pygments_lexer": "ipython3",
   "version": "3.8.13"
  },
  "orig_nbformat": 4
 },
 "nbformat": 4,
 "nbformat_minor": 2
}
